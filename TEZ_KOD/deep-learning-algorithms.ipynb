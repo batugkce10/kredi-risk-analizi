{
 "cells": [
  {
   "cell_type": "markdown",
   "metadata": {},
   "source": [
    "Kütüphanelerin import edilmesi."
   ]
  },
  {
   "cell_type": "code",
   "execution_count": 1,
   "metadata": {},
   "outputs": [],
   "source": [
    "import pandas as pd\n",
    "import numpy as np\n",
    "from sklearn.model_selection import train_test_split\n",
    "from sklearn.preprocessing import LabelEncoder\n",
    "import tensorflow as tf\n",
    "import keras\n",
    "from keras import layers\n",
    "from keras.models import Sequential\n",
    "from keras.layers import Dense, Dropout\n",
    "from sklearn.preprocessing import MinMaxScaler\n",
    "from sklearn.model_selection import train_test_split\n",
    "from keras.models import Sequential\n",
    "from keras.layers import Dense, Dropout"
   ]
  },
  {
   "cell_type": "markdown",
   "metadata": {},
   "source": [
    "Veri setinin kolon isimlerinin Türkçe olacak şekilde okunması."
   ]
  },
  {
   "cell_type": "code",
   "execution_count": 2,
   "metadata": {},
   "outputs": [
    {
     "data": {
      "text/html": [
       "<div>\n",
       "<style scoped>\n",
       "    .dataframe tbody tr th:only-of-type {\n",
       "        vertical-align: middle;\n",
       "    }\n",
       "\n",
       "    .dataframe tbody tr th {\n",
       "        vertical-align: top;\n",
       "    }\n",
       "\n",
       "    .dataframe thead th {\n",
       "        text-align: right;\n",
       "    }\n",
       "</style>\n",
       "<table border=\"1\" class=\"dataframe\">\n",
       "  <thead>\n",
       "    <tr style=\"text-align: right;\">\n",
       "      <th></th>\n",
       "      <th>yas</th>\n",
       "      <th>meslek</th>\n",
       "      <th>medeni_hal</th>\n",
       "      <th>egitim_durumu</th>\n",
       "      <th>temerrud_durumu</th>\n",
       "      <th>ev_durumu</th>\n",
       "      <th>borc_durumu</th>\n",
       "      <th>iletisim_tipi</th>\n",
       "      <th>ay</th>\n",
       "      <th>gun</th>\n",
       "      <th>...</th>\n",
       "      <th>kampanya_musteri_sayisi</th>\n",
       "      <th>son_kampanya_gorusme</th>\n",
       "      <th>bu_kampanya_son_gorusme</th>\n",
       "      <th>onceki_kampanya_sonuc</th>\n",
       "      <th>is_degisim_orani</th>\n",
       "      <th>tuketici_fiyat_endeksi</th>\n",
       "      <th>tuketici_guven_endeksi</th>\n",
       "      <th>euribor_oran</th>\n",
       "      <th>calisan_sayisi</th>\n",
       "      <th>uygun_mu</th>\n",
       "    </tr>\n",
       "  </thead>\n",
       "  <tbody>\n",
       "    <tr>\n",
       "      <th>0</th>\n",
       "      <td>56</td>\n",
       "      <td>housemaid</td>\n",
       "      <td>married</td>\n",
       "      <td>basic.4y</td>\n",
       "      <td>no</td>\n",
       "      <td>no</td>\n",
       "      <td>no</td>\n",
       "      <td>telephone</td>\n",
       "      <td>may</td>\n",
       "      <td>mon</td>\n",
       "      <td>...</td>\n",
       "      <td>1</td>\n",
       "      <td>999</td>\n",
       "      <td>0</td>\n",
       "      <td>nonexistent</td>\n",
       "      <td>1.1</td>\n",
       "      <td>93.994</td>\n",
       "      <td>-36.4</td>\n",
       "      <td>4.857</td>\n",
       "      <td>5191.0</td>\n",
       "      <td>no</td>\n",
       "    </tr>\n",
       "    <tr>\n",
       "      <th>1</th>\n",
       "      <td>57</td>\n",
       "      <td>services</td>\n",
       "      <td>married</td>\n",
       "      <td>high.school</td>\n",
       "      <td>unknown</td>\n",
       "      <td>no</td>\n",
       "      <td>no</td>\n",
       "      <td>telephone</td>\n",
       "      <td>may</td>\n",
       "      <td>mon</td>\n",
       "      <td>...</td>\n",
       "      <td>1</td>\n",
       "      <td>999</td>\n",
       "      <td>0</td>\n",
       "      <td>nonexistent</td>\n",
       "      <td>1.1</td>\n",
       "      <td>93.994</td>\n",
       "      <td>-36.4</td>\n",
       "      <td>4.857</td>\n",
       "      <td>5191.0</td>\n",
       "      <td>no</td>\n",
       "    </tr>\n",
       "    <tr>\n",
       "      <th>2</th>\n",
       "      <td>37</td>\n",
       "      <td>services</td>\n",
       "      <td>married</td>\n",
       "      <td>high.school</td>\n",
       "      <td>no</td>\n",
       "      <td>yes</td>\n",
       "      <td>no</td>\n",
       "      <td>telephone</td>\n",
       "      <td>may</td>\n",
       "      <td>mon</td>\n",
       "      <td>...</td>\n",
       "      <td>1</td>\n",
       "      <td>999</td>\n",
       "      <td>0</td>\n",
       "      <td>nonexistent</td>\n",
       "      <td>1.1</td>\n",
       "      <td>93.994</td>\n",
       "      <td>-36.4</td>\n",
       "      <td>4.857</td>\n",
       "      <td>5191.0</td>\n",
       "      <td>no</td>\n",
       "    </tr>\n",
       "    <tr>\n",
       "      <th>3</th>\n",
       "      <td>40</td>\n",
       "      <td>admin.</td>\n",
       "      <td>married</td>\n",
       "      <td>basic.6y</td>\n",
       "      <td>no</td>\n",
       "      <td>no</td>\n",
       "      <td>no</td>\n",
       "      <td>telephone</td>\n",
       "      <td>may</td>\n",
       "      <td>mon</td>\n",
       "      <td>...</td>\n",
       "      <td>1</td>\n",
       "      <td>999</td>\n",
       "      <td>0</td>\n",
       "      <td>nonexistent</td>\n",
       "      <td>1.1</td>\n",
       "      <td>93.994</td>\n",
       "      <td>-36.4</td>\n",
       "      <td>4.857</td>\n",
       "      <td>5191.0</td>\n",
       "      <td>no</td>\n",
       "    </tr>\n",
       "    <tr>\n",
       "      <th>4</th>\n",
       "      <td>56</td>\n",
       "      <td>services</td>\n",
       "      <td>married</td>\n",
       "      <td>high.school</td>\n",
       "      <td>no</td>\n",
       "      <td>no</td>\n",
       "      <td>yes</td>\n",
       "      <td>telephone</td>\n",
       "      <td>may</td>\n",
       "      <td>mon</td>\n",
       "      <td>...</td>\n",
       "      <td>1</td>\n",
       "      <td>999</td>\n",
       "      <td>0</td>\n",
       "      <td>nonexistent</td>\n",
       "      <td>1.1</td>\n",
       "      <td>93.994</td>\n",
       "      <td>-36.4</td>\n",
       "      <td>4.857</td>\n",
       "      <td>5191.0</td>\n",
       "      <td>no</td>\n",
       "    </tr>\n",
       "  </tbody>\n",
       "</table>\n",
       "<p>5 rows × 21 columns</p>\n",
       "</div>"
      ],
      "text/plain": [
       "   yas     meslek medeni_hal egitim_durumu temerrud_durumu ev_durumu  \\\n",
       "0   56  housemaid    married      basic.4y              no        no   \n",
       "1   57   services    married   high.school         unknown        no   \n",
       "2   37   services    married   high.school              no       yes   \n",
       "3   40     admin.    married      basic.6y              no        no   \n",
       "4   56   services    married   high.school              no        no   \n",
       "\n",
       "  borc_durumu iletisim_tipi   ay  gun  ...  kampanya_musteri_sayisi  \\\n",
       "0          no     telephone  may  mon  ...                        1   \n",
       "1          no     telephone  may  mon  ...                        1   \n",
       "2          no     telephone  may  mon  ...                        1   \n",
       "3          no     telephone  may  mon  ...                        1   \n",
       "4         yes     telephone  may  mon  ...                        1   \n",
       "\n",
       "   son_kampanya_gorusme  bu_kampanya_son_gorusme  onceki_kampanya_sonuc  \\\n",
       "0                   999                        0            nonexistent   \n",
       "1                   999                        0            nonexistent   \n",
       "2                   999                        0            nonexistent   \n",
       "3                   999                        0            nonexistent   \n",
       "4                   999                        0            nonexistent   \n",
       "\n",
       "  is_degisim_orani  tuketici_fiyat_endeksi  tuketici_guven_endeksi  \\\n",
       "0              1.1                  93.994                   -36.4   \n",
       "1              1.1                  93.994                   -36.4   \n",
       "2              1.1                  93.994                   -36.4   \n",
       "3              1.1                  93.994                   -36.4   \n",
       "4              1.1                  93.994                   -36.4   \n",
       "\n",
       "   euribor_oran  calisan_sayisi  uygun_mu  \n",
       "0         4.857          5191.0        no  \n",
       "1         4.857          5191.0        no  \n",
       "2         4.857          5191.0        no  \n",
       "3         4.857          5191.0        no  \n",
       "4         4.857          5191.0        no  \n",
       "\n",
       "[5 rows x 21 columns]"
      ]
     },
     "execution_count": 2,
     "metadata": {},
     "output_type": "execute_result"
    }
   ],
   "source": [
    "df=pd.read_csv('bank-additional-full.csv', sep=';',)\n",
    "df.columns = ['yas', 'meslek', 'medeni_hal', 'egitim_durumu','temerrud_durumu','ev_durumu','borc_durumu','iletisim_tipi', 'ay', 'gun',\n",
    "              'son_gorusme','kampanya_musteri_sayisi', 'son_kampanya_gorusme', 'bu_kampanya_son_gorusme','onceki_kampanya_sonuc',\n",
    "               'is_degisim_orani','tuketici_fiyat_endeksi', 'tuketici_guven_endeksi', 'euribor_oran', 'calisan_sayisi', 'uygun_mu']\n",
    "df.head()"
   ]
  },
  {
   "cell_type": "markdown",
   "metadata": {},
   "source": [
    "Diğer algoritmalar için hesaplanan düşük korelasyonlu kolonlar çıkarıldı."
   ]
  },
  {
   "cell_type": "code",
   "execution_count": 3,
   "metadata": {},
   "outputs": [],
   "source": [
    "df.drop(columns=[\n",
    "    'calisan_sayisi','son_kampanya_gorusme','euribor_oran','is_degisim_orani',\n",
    "    'tuketici_fiyat_endeksi','iletisim_tipi','ay','kampanya_musteri_sayisi', 'gun'\n",
    "    ], axis=0, inplace=True)\n"
   ]
  },
  {
   "cell_type": "markdown",
   "metadata": {},
   "source": [
    "Label Encoding işlemi yapıldı"
   ]
  },
  {
   "cell_type": "code",
   "execution_count": 4,
   "metadata": {},
   "outputs": [
    {
     "data": {
      "text/html": [
       "<div>\n",
       "<style scoped>\n",
       "    .dataframe tbody tr th:only-of-type {\n",
       "        vertical-align: middle;\n",
       "    }\n",
       "\n",
       "    .dataframe tbody tr th {\n",
       "        vertical-align: top;\n",
       "    }\n",
       "\n",
       "    .dataframe thead th {\n",
       "        text-align: right;\n",
       "    }\n",
       "</style>\n",
       "<table border=\"1\" class=\"dataframe\">\n",
       "  <thead>\n",
       "    <tr style=\"text-align: right;\">\n",
       "      <th></th>\n",
       "      <th>yas</th>\n",
       "      <th>meslek</th>\n",
       "      <th>medeni_hal</th>\n",
       "      <th>egitim_durumu</th>\n",
       "      <th>temerrud_durumu</th>\n",
       "      <th>ev_durumu</th>\n",
       "      <th>borc_durumu</th>\n",
       "      <th>son_gorusme</th>\n",
       "      <th>bu_kampanya_son_gorusme</th>\n",
       "      <th>onceki_kampanya_sonuc</th>\n",
       "      <th>tuketici_guven_endeksi</th>\n",
       "      <th>uygun_mu</th>\n",
       "    </tr>\n",
       "  </thead>\n",
       "  <tbody>\n",
       "    <tr>\n",
       "      <th>0</th>\n",
       "      <td>56</td>\n",
       "      <td>1</td>\n",
       "      <td>married</td>\n",
       "      <td>1</td>\n",
       "      <td>no</td>\n",
       "      <td>no</td>\n",
       "      <td>no</td>\n",
       "      <td>261</td>\n",
       "      <td>0</td>\n",
       "      <td>0</td>\n",
       "      <td>-36.4</td>\n",
       "      <td>0</td>\n",
       "    </tr>\n",
       "    <tr>\n",
       "      <th>1</th>\n",
       "      <td>57</td>\n",
       "      <td>1</td>\n",
       "      <td>married</td>\n",
       "      <td>1</td>\n",
       "      <td>unknown</td>\n",
       "      <td>no</td>\n",
       "      <td>no</td>\n",
       "      <td>149</td>\n",
       "      <td>0</td>\n",
       "      <td>0</td>\n",
       "      <td>-36.4</td>\n",
       "      <td>0</td>\n",
       "    </tr>\n",
       "    <tr>\n",
       "      <th>2</th>\n",
       "      <td>37</td>\n",
       "      <td>1</td>\n",
       "      <td>married</td>\n",
       "      <td>1</td>\n",
       "      <td>no</td>\n",
       "      <td>yes</td>\n",
       "      <td>no</td>\n",
       "      <td>226</td>\n",
       "      <td>0</td>\n",
       "      <td>0</td>\n",
       "      <td>-36.4</td>\n",
       "      <td>0</td>\n",
       "    </tr>\n",
       "    <tr>\n",
       "      <th>3</th>\n",
       "      <td>40</td>\n",
       "      <td>1</td>\n",
       "      <td>married</td>\n",
       "      <td>1</td>\n",
       "      <td>no</td>\n",
       "      <td>no</td>\n",
       "      <td>no</td>\n",
       "      <td>151</td>\n",
       "      <td>0</td>\n",
       "      <td>0</td>\n",
       "      <td>-36.4</td>\n",
       "      <td>0</td>\n",
       "    </tr>\n",
       "    <tr>\n",
       "      <th>4</th>\n",
       "      <td>56</td>\n",
       "      <td>1</td>\n",
       "      <td>married</td>\n",
       "      <td>1</td>\n",
       "      <td>no</td>\n",
       "      <td>no</td>\n",
       "      <td>yes</td>\n",
       "      <td>307</td>\n",
       "      <td>0</td>\n",
       "      <td>0</td>\n",
       "      <td>-36.4</td>\n",
       "      <td>0</td>\n",
       "    </tr>\n",
       "  </tbody>\n",
       "</table>\n",
       "</div>"
      ],
      "text/plain": [
       "   yas  meslek medeni_hal  egitim_durumu temerrud_durumu ev_durumu  \\\n",
       "0   56       1    married              1              no        no   \n",
       "1   57       1    married              1         unknown        no   \n",
       "2   37       1    married              1              no       yes   \n",
       "3   40       1    married              1              no        no   \n",
       "4   56       1    married              1              no        no   \n",
       "\n",
       "  borc_durumu  son_gorusme  bu_kampanya_son_gorusme  onceki_kampanya_sonuc  \\\n",
       "0          no          261                        0                      0   \n",
       "1          no          149                        0                      0   \n",
       "2          no          226                        0                      0   \n",
       "3          no          151                        0                      0   \n",
       "4         yes          307                        0                      0   \n",
       "\n",
       "   tuketici_guven_endeksi  uygun_mu  \n",
       "0                   -36.4         0  \n",
       "1                   -36.4         0  \n",
       "2                   -36.4         0  \n",
       "3                   -36.4         0  \n",
       "4                   -36.4         0  "
      ]
     },
     "execution_count": 4,
     "metadata": {},
     "output_type": "execute_result"
    }
   ],
   "source": [
    "dict_meslek = {\n",
    "    \"meslek\":{\n",
    "        \"housemaid\":1,\n",
    "        \"unemployed\":0,\n",
    "        \"entrepreneur\":1,\n",
    "        \"blue-collar\":1,\n",
    "        \"services\":1,\n",
    "        \"admin.\":1,\n",
    "        \"technician\":1,\n",
    "        \"retired\":1,\n",
    "        \"management\":1,\n",
    "        \"self-employed\":1,\n",
    "        \"unknown\":0,\n",
    "        \"student\":0\n",
    "    }}\n",
    "dict_egitim_durumu = {\n",
    "    \"egitim_durumu\":{\n",
    "        \"basic.4y\":1,\n",
    "        \"basic.6y\":1,\n",
    "        \"basic.9y\":1,\n",
    "        \"high.school\":1,\n",
    "        \"professional.course\":1,\n",
    "        \"university.degree\":1,\n",
    "        \"illiterate\":0,\n",
    "        \"unknown\":0\n",
    "    }}\n",
    "\n",
    "dict_onceki_kampanya_sonuc = {\n",
    "    \"onceki_kampanya_sonuc\":{\n",
    "        \"nonexistent\":0,\n",
    "        \"failure\":0,\n",
    "        \"success\":1\n",
    "    }}\n",
    "dict_uygun_mu = {\n",
    "    \"uygun_mu\":{\n",
    "        \"no\":0,\n",
    "        \"yes\":1\n",
    "    }}\n",
    "for i in [dict_onceki_kampanya_sonuc,dict_uygun_mu, dict_egitim_durumu, dict_meslek]:\n",
    "    df.replace(i,inplace=True)\n",
    "df.head(5)"
   ]
  },
  {
   "cell_type": "code",
   "execution_count": 5,
   "metadata": {},
   "outputs": [
    {
     "data": {
      "text/html": [
       "<div>\n",
       "<style scoped>\n",
       "    .dataframe tbody tr th:only-of-type {\n",
       "        vertical-align: middle;\n",
       "    }\n",
       "\n",
       "    .dataframe tbody tr th {\n",
       "        vertical-align: top;\n",
       "    }\n",
       "\n",
       "    .dataframe thead th {\n",
       "        text-align: right;\n",
       "    }\n",
       "</style>\n",
       "<table border=\"1\" class=\"dataframe\">\n",
       "  <thead>\n",
       "    <tr style=\"text-align: right;\">\n",
       "      <th></th>\n",
       "      <th>yas</th>\n",
       "      <th>meslek</th>\n",
       "      <th>medeni_hal</th>\n",
       "      <th>egitim_durumu</th>\n",
       "      <th>temerrud_durumu</th>\n",
       "      <th>ev_durumu</th>\n",
       "      <th>borc_durumu</th>\n",
       "      <th>son_gorusme</th>\n",
       "      <th>bu_kampanya_son_gorusme</th>\n",
       "      <th>onceki_kampanya_sonuc</th>\n",
       "      <th>tuketici_guven_endeksi</th>\n",
       "      <th>uygun_mu</th>\n",
       "    </tr>\n",
       "  </thead>\n",
       "  <tbody>\n",
       "    <tr>\n",
       "      <th>0</th>\n",
       "      <td>56</td>\n",
       "      <td>1</td>\n",
       "      <td>1</td>\n",
       "      <td>1</td>\n",
       "      <td>0</td>\n",
       "      <td>0</td>\n",
       "      <td>0</td>\n",
       "      <td>261</td>\n",
       "      <td>0</td>\n",
       "      <td>0</td>\n",
       "      <td>-36.4</td>\n",
       "      <td>0</td>\n",
       "    </tr>\n",
       "    <tr>\n",
       "      <th>1</th>\n",
       "      <td>57</td>\n",
       "      <td>1</td>\n",
       "      <td>1</td>\n",
       "      <td>1</td>\n",
       "      <td>1</td>\n",
       "      <td>0</td>\n",
       "      <td>0</td>\n",
       "      <td>149</td>\n",
       "      <td>0</td>\n",
       "      <td>0</td>\n",
       "      <td>-36.4</td>\n",
       "      <td>0</td>\n",
       "    </tr>\n",
       "    <tr>\n",
       "      <th>2</th>\n",
       "      <td>37</td>\n",
       "      <td>1</td>\n",
       "      <td>1</td>\n",
       "      <td>1</td>\n",
       "      <td>0</td>\n",
       "      <td>2</td>\n",
       "      <td>0</td>\n",
       "      <td>226</td>\n",
       "      <td>0</td>\n",
       "      <td>0</td>\n",
       "      <td>-36.4</td>\n",
       "      <td>0</td>\n",
       "    </tr>\n",
       "    <tr>\n",
       "      <th>3</th>\n",
       "      <td>40</td>\n",
       "      <td>1</td>\n",
       "      <td>1</td>\n",
       "      <td>1</td>\n",
       "      <td>0</td>\n",
       "      <td>0</td>\n",
       "      <td>0</td>\n",
       "      <td>151</td>\n",
       "      <td>0</td>\n",
       "      <td>0</td>\n",
       "      <td>-36.4</td>\n",
       "      <td>0</td>\n",
       "    </tr>\n",
       "    <tr>\n",
       "      <th>4</th>\n",
       "      <td>56</td>\n",
       "      <td>1</td>\n",
       "      <td>1</td>\n",
       "      <td>1</td>\n",
       "      <td>0</td>\n",
       "      <td>0</td>\n",
       "      <td>2</td>\n",
       "      <td>307</td>\n",
       "      <td>0</td>\n",
       "      <td>0</td>\n",
       "      <td>-36.4</td>\n",
       "      <td>0</td>\n",
       "    </tr>\n",
       "  </tbody>\n",
       "</table>\n",
       "</div>"
      ],
      "text/plain": [
       "   yas  meslek  medeni_hal  egitim_durumu  temerrud_durumu  ev_durumu  \\\n",
       "0   56       1           1              1                0          0   \n",
       "1   57       1           1              1                1          0   \n",
       "2   37       1           1              1                0          2   \n",
       "3   40       1           1              1                0          0   \n",
       "4   56       1           1              1                0          0   \n",
       "\n",
       "   borc_durumu  son_gorusme  bu_kampanya_son_gorusme  onceki_kampanya_sonuc  \\\n",
       "0            0          261                        0                      0   \n",
       "1            0          149                        0                      0   \n",
       "2            0          226                        0                      0   \n",
       "3            0          151                        0                      0   \n",
       "4            2          307                        0                      0   \n",
       "\n",
       "   tuketici_guven_endeksi  uygun_mu  \n",
       "0                   -36.4         0  \n",
       "1                   -36.4         0  \n",
       "2                   -36.4         0  \n",
       "3                   -36.4         0  \n",
       "4                   -36.4         0  "
      ]
     },
     "execution_count": 5,
     "metadata": {},
     "output_type": "execute_result"
    }
   ],
   "source": [
    "lc_X1 = LabelEncoder()\n",
    "list = ['medeni_hal','temerrud_durumu','ev_durumu','borc_durumu']\n",
    "\n",
    "for i in list:\n",
    "    df[i] = lc_X1.fit_transform(df[i])\n",
    "df_1 = pd.get_dummies(df,\n",
    "                       columns=['medeni_hal','temerrud_durumu','ev_durumu','borc_durumu'],\n",
    "                       drop_first=True)\n",
    "df.head()"
   ]
  },
  {
   "cell_type": "markdown",
   "metadata": {},
   "source": [
    "Veri setini üç boyutlu hale getirebilmek için 'son_gorusme' kolonu zaman serisi haline getirildi."
   ]
  },
  {
   "cell_type": "code",
   "execution_count": 6,
   "metadata": {},
   "outputs": [
    {
     "data": {
      "text/plain": [
       "0       2015-01-01 00:00:00.000000000\n",
       "1       2015-01-01 01:16:38.266443295\n",
       "2       2015-01-01 02:33:16.532886590\n",
       "3       2015-01-01 03:49:54.799329885\n",
       "4       2015-01-01 05:06:33.065773180\n",
       "                     ...             \n",
       "41183   2020-12-31 18:53:26.934226848\n",
       "41184   2020-12-31 20:10:05.200670144\n",
       "41185   2020-12-31 21:26:43.467113408\n",
       "41186   2020-12-31 22:43:21.733556704\n",
       "41187   2021-01-01 00:00:00.000000000\n",
       "Name: son_gorusme, Length: 41188, dtype: datetime64[ns]"
      ]
     },
     "execution_count": 6,
     "metadata": {},
     "output_type": "execute_result"
    }
   ],
   "source": [
    "df['son_gorusme']=pd.to_datetime(df['son_gorusme'],dayfirst=True)\n",
    "df['son_gorusme']=pd.Series(pd.date_range(start='2015-1-1',end='2021-1-1',periods=41188))\n",
    "df['son_gorusme']"
   ]
  },
  {
   "cell_type": "code",
   "execution_count": 7,
   "metadata": {},
   "outputs": [
    {
     "data": {
      "text/plain": [
       "Index(['yas', 'meslek', 'medeni_hal', 'egitim_durumu', 'temerrud_durumu',\n",
       "       'ev_durumu', 'borc_durumu', 'son_gorusme', 'bu_kampanya_son_gorusme',\n",
       "       'onceki_kampanya_sonuc', 'tuketici_guven_endeksi', 'uygun_mu'],\n",
       "      dtype='object')"
      ]
     },
     "execution_count": 7,
     "metadata": {},
     "output_type": "execute_result"
    }
   ],
   "source": [
    "df.columns"
   ]
  },
  {
   "cell_type": "markdown",
   "metadata": {},
   "source": [
    "Verinin dönüştürülmesi işlemi. Her özellik için bir liste oluşturuldu."
   ]
  },
  {
   "cell_type": "code",
   "execution_count": 8,
   "metadata": {},
   "outputs": [],
   "source": [
    "x0=[]\n",
    "x1=[]\n",
    "x2=[]\n",
    "x3=[]\n",
    "x4=[]\n",
    "x5=[]\n",
    "x6=[]\n",
    "x7=[]\n",
    "x8=[]\n",
    "x9=[]\n",
    "x10=[]\n",
    "x11=[]\n",
    "y=[]"
   ]
  },
  {
   "cell_type": "markdown",
   "metadata": {},
   "source": [
    "Veri setimizdeki 41188 adet veriyi, en büyük asal olmayan çarpanı (28) kadar kaydırarak oluşturduğumuz boş listelere atıyoruz."
   ]
  },
  {
   "cell_type": "code",
   "execution_count": 9,
   "metadata": {},
   "outputs": [],
   "source": [
    "for i in range (0, df.shape[0]-28):\n",
    "    x0.append(df.iloc[i:i + 28, 0])\n",
    "    x1.append(df.iloc[i:i + 28, 1])\n",
    "    x2.append(df.iloc[i:i + 28, 2])\n",
    "    x3.append(df.iloc[i:i + 28, 3])\n",
    "    x4.append(df.iloc[i:i + 28, 4])\n",
    "    x5.append(df.iloc[i:i + 28, 5])\n",
    "    x6.append(df.iloc[i:i + 28, 6])\n",
    "    x7.append(df.iloc[i:i + 28, 7])\n",
    "    x8.append(df.iloc[i:i + 28, 8])\n",
    "    x9.append(df.iloc[i:i + 28, 9])\n",
    "    x10.append(df.iloc[i:i + 28, 10])\n",
    "    x11.append(df.iloc[i:i + 28, 11])\n",
    "    y.append(df.iloc[i + 28, 11])"
   ]
  },
  {
   "cell_type": "markdown",
   "metadata": {},
   "source": [
    "Bu listeleri numpy arraylerine dönüştürüyoruz."
   ]
  },
  {
   "cell_type": "code",
   "execution_count": 10,
   "metadata": {},
   "outputs": [],
   "source": [
    "x0,x1,x2,x3,x4,x5,x6,x7,x8,x9,x10,x11,y= np.array(x0),np.array(x1),np.array(x2),np.array(x3),np.array(x4),np.array(x5), np.array(x6),np.array(x7),np.array(x8),np.array(x9),np.array(x10),np.array(x11), np.array(y)\n"
   ]
  },
  {
   "cell_type": "code",
   "execution_count": 11,
   "metadata": {},
   "outputs": [],
   "source": [
    "y=np.reshape(y, (len(y),1))\n"
   ]
  },
  {
   "cell_type": "markdown",
   "metadata": {},
   "source": [
    "Verileri skaler hale getiriyoruz."
   ]
  },
  {
   "cell_type": "code",
   "execution_count": 12,
   "metadata": {},
   "outputs": [],
   "source": [
    "scaler = MinMaxScaler(feature_range=(0,1))\n",
    "x0 = scaler.fit_transform(x0)\n",
    "x1 = scaler.fit_transform(x1)\n",
    "x2 = scaler.fit_transform(x2)\n",
    "x3 = scaler.fit_transform(x3)\n",
    "x4 = scaler.fit_transform(x4)\n",
    "x5 = scaler.fit_transform(x5)\n",
    "x6 = scaler.fit_transform(x6)\n",
    "x7 = scaler.fit_transform(x7)\n",
    "x8 = scaler.fit_transform(x8)\n",
    "x9 = scaler.fit_transform(x9)\n",
    "x10 = scaler.fit_transform(x10)\n",
    "x11 = scaler.fit_transform(x11)\n",
    "y = scaler.fit_transform(y)"
   ]
  },
  {
   "cell_type": "markdown",
   "metadata": {},
   "source": [
    "En son olarak oluşturulan listeler stack yapısına aktarılıyor."
   ]
  },
  {
   "cell_type": "code",
   "execution_count": 13,
   "metadata": {},
   "outputs": [],
   "source": [
    "X = np.stack([x0,x1,x2,x3,x4,x5,x6,x7,x8,x9,x10,x11], axis=2)"
   ]
  },
  {
   "cell_type": "markdown",
   "metadata": {},
   "source": [
    "Veri setinin parçalanması"
   ]
  },
  {
   "cell_type": "code",
   "execution_count": 14,
   "metadata": {},
   "outputs": [],
   "source": [
    "X_train,X_test,y_train,y_test = train_test_split(X,y,test_size=0.2,random_state=101)"
   ]
  },
  {
   "cell_type": "code",
   "execution_count": 20,
   "metadata": {},
   "outputs": [
    {
     "data": {
      "text/plain": [
       "(32928, 1)"
      ]
     },
     "execution_count": 20,
     "metadata": {},
     "output_type": "execute_result"
    }
   ],
   "source": [
    "y_train.shape"
   ]
  },
  {
   "cell_type": "markdown",
   "metadata": {},
   "source": [
    "SimpleRNN yapısı"
   ]
  },
  {
   "cell_type": "code",
   "execution_count": 16,
   "metadata": {},
   "outputs": [
    {
     "name": "stdout",
     "output_type": "stream",
     "text": [
      "Model: \"sequential\"\n",
      "_________________________________________________________________\n",
      " Layer (type)                Output Shape              Param #   \n",
      "=================================================================\n",
      " simple_rnn (SimpleRNN)      (None, 28, 128)           18048     \n",
      "                                                                 \n",
      " dropout (Dropout)           (None, 28, 128)           0         \n",
      "                                                                 \n",
      " simple_rnn_1 (SimpleRNN)    (None, 128)               32896     \n",
      "                                                                 \n",
      " dropout_1 (Dropout)         (None, 128)               0         \n",
      "                                                                 \n",
      " dense (Dense)               (None, 10)                1290      \n",
      "                                                                 \n",
      "=================================================================\n",
      "Total params: 52,234\n",
      "Trainable params: 52,234\n",
      "Non-trainable params: 0\n",
      "_________________________________________________________________\n",
      "Epoch 1/5\n"
     ]
    },
    {
     "name": "stderr",
     "output_type": "stream",
     "text": [
      "C:\\Users\\hasanbatuhan.gokce\\AppData\\Roaming\\Python\\Python39\\site-packages\\keras\\optimizers\\optimizer_v2\\adam.py:110: UserWarning: The `lr` argument is deprecated, use `learning_rate` instead.\n",
      "  super(Adam, self).__init__(name, **kwargs)\n"
     ]
    },
    {
     "name": "stdout",
     "output_type": "stream",
     "text": [
      "515/515 - 8s - loss: 0.3207 - accuracy: 0.8841 - 8s/epoch - 15ms/step\n",
      "Epoch 2/5\n",
      "515/515 - 7s - loss: 0.2917 - accuracy: 0.8874 - 7s/epoch - 13ms/step\n",
      "Epoch 3/5\n",
      "515/515 - 7s - loss: 0.2886 - accuracy: 0.8860 - 7s/epoch - 13ms/step\n",
      "Epoch 4/5\n",
      "515/515 - 7s - loss: 0.2881 - accuracy: 0.8866 - 7s/epoch - 13ms/step\n",
      "Epoch 5/5\n",
      "515/515 - 7s - loss: 0.2862 - accuracy: 0.8877 - 7s/epoch - 13ms/step\n",
      "129/129 - 1s - loss: 0.2811 - accuracy: 0.8910 - 868ms/epoch - 7ms/step\n"
     ]
    },
    {
     "data": {
      "text/plain": [
       "[0.2810571491718292, 0.8910349607467651]"
      ]
     },
     "execution_count": 16,
     "metadata": {},
     "output_type": "execute_result"
    }
   ],
   "source": [
    "model=Sequential()\n",
    "model.add(keras.Input(shape=(28,12)))\n",
    "model.add(layers.SimpleRNN(128, return_sequences=True, activation='relu'))\n",
    "model.add(Dropout(0.2))\n",
    "model.add(layers.SimpleRNN(128, return_sequences=False, activation='relu'))\n",
    "model.add(Dropout(0.2))\n",
    "model.add(layers.Dense(10))\n",
    "model.summary()\n",
    "\n",
    "loss = keras.losses.SparseCategoricalCrossentropy(from_logits=True)\n",
    "opt=keras.optimizers.Adam(lr=0.001)\n",
    "metrics = [\"accuracy\"]\n",
    "\n",
    "model.compile(loss=loss, optimizer=opt, metrics=metrics)\n",
    "\n",
    "model.fit(X_train, y_train, batch_size=64, epochs=5, verbose=2)\n",
    "\n",
    "model.evaluate(X_test, y_test, batch_size=64, verbose=2)"
   ]
  },
  {
   "cell_type": "markdown",
   "metadata": {},
   "source": [
    "GRU yapısı"
   ]
  },
  {
   "cell_type": "code",
   "execution_count": 17,
   "metadata": {},
   "outputs": [
    {
     "name": "stdout",
     "output_type": "stream",
     "text": [
      "Model: \"sequential_1\"\n",
      "_________________________________________________________________\n",
      " Layer (type)                Output Shape              Param #   \n",
      "=================================================================\n",
      " gru (GRU)                   (None, 28, 128)           54528     \n",
      "                                                                 \n",
      " dropout_2 (Dropout)         (None, 28, 128)           0         \n",
      "                                                                 \n",
      " gru_1 (GRU)                 (None, 128)               99072     \n",
      "                                                                 \n",
      " dropout_3 (Dropout)         (None, 128)               0         \n",
      "                                                                 \n",
      " dense_1 (Dense)             (None, 10)                1290      \n",
      "                                                                 \n",
      "=================================================================\n",
      "Total params: 154,890\n",
      "Trainable params: 154,890\n",
      "Non-trainable params: 0\n",
      "_________________________________________________________________\n",
      "Epoch 1/5\n",
      "515/515 - 24s - loss: 0.3441 - accuracy: 0.8842 - 24s/epoch - 46ms/step\n",
      "Epoch 2/5\n",
      "515/515 - 24s - loss: 0.2867 - accuracy: 0.8884 - 24s/epoch - 46ms/step\n",
      "Epoch 3/5\n",
      "515/515 - 25s - loss: 0.2856 - accuracy: 0.8890 - 25s/epoch - 48ms/step\n",
      "Epoch 4/5\n",
      "515/515 - 24s - loss: 0.2844 - accuracy: 0.8886 - 24s/epoch - 47ms/step\n",
      "Epoch 5/5\n",
      "515/515 - 24s - loss: 0.2847 - accuracy: 0.8888 - 24s/epoch - 47ms/step\n",
      "129/129 - 2s - loss: 0.2779 - accuracy: 0.8921 - 2s/epoch - 15ms/step\n"
     ]
    },
    {
     "data": {
      "text/plain": [
       "[0.2778799533843994, 0.8921282887458801]"
      ]
     },
     "execution_count": 17,
     "metadata": {},
     "output_type": "execute_result"
    }
   ],
   "source": [
    "model=Sequential()\n",
    "model.add(keras.Input(shape=(28,12)))\n",
    "model.add(layers.GRU(128, return_sequences=True, activation='relu'))\n",
    "model.add(Dropout(0.2))\n",
    "model.add(layers.GRU(128, return_sequences=False, activation='relu'))\n",
    "model.add(Dropout(0.2))\n",
    "model.add(layers.Dense(10))\n",
    "model.summary()\n",
    "\n",
    "loss = keras.losses.SparseCategoricalCrossentropy(from_logits=True)\n",
    "opt=keras.optimizers.Adam(lr=0.001)\n",
    "metrics = [\"accuracy\"]\n",
    "\n",
    "model.compile(loss=loss, optimizer=opt, metrics=metrics)\n",
    "\n",
    "model.fit(X_train, y_train, batch_size=64, epochs=5, verbose=2)\n",
    "\n",
    "model.evaluate(X_test, y_test, batch_size=64, verbose=2)"
   ]
  },
  {
   "cell_type": "markdown",
   "metadata": {},
   "source": [
    "RNN yapısı"
   ]
  },
  {
   "cell_type": "code",
   "execution_count": 18,
   "metadata": {},
   "outputs": [
    {
     "name": "stdout",
     "output_type": "stream",
     "text": [
      "Model: \"sequential_2\"\n",
      "_________________________________________________________________\n",
      " Layer (type)                Output Shape              Param #   \n",
      "=================================================================\n",
      " flatten (Flatten)           (None, 336)               0         \n",
      "                                                                 \n",
      " dense_2 (Dense)             (None, 128)               43136     \n",
      "                                                                 \n",
      " dropout_4 (Dropout)         (None, 128)               0         \n",
      "                                                                 \n",
      " dense_3 (Dense)             (None, 128)               16512     \n",
      "                                                                 \n",
      " dropout_5 (Dropout)         (None, 128)               0         \n",
      "                                                                 \n",
      " dense_4 (Dense)             (None, 10)                1290      \n",
      "                                                                 \n",
      "=================================================================\n",
      "Total params: 60,938\n",
      "Trainable params: 60,938\n",
      "Non-trainable params: 0\n",
      "_________________________________________________________________\n",
      "Epoch 1/10\n",
      "515/515 - 1s - loss: 0.3171 - accuracy: 0.8828 - 1s/epoch - 3ms/step\n",
      "Epoch 2/10\n",
      "515/515 - 1s - loss: 0.2907 - accuracy: 0.8885 - 943ms/epoch - 2ms/step\n",
      "Epoch 3/10\n",
      "515/515 - 1s - loss: 0.2866 - accuracy: 0.8896 - 977ms/epoch - 2ms/step\n",
      "Epoch 4/10\n",
      "515/515 - 1s - loss: 0.2855 - accuracy: 0.8886 - 995ms/epoch - 2ms/step\n",
      "Epoch 5/10\n",
      "515/515 - 1s - loss: 0.2858 - accuracy: 0.8905 - 1s/epoch - 2ms/step\n",
      "Epoch 6/10\n",
      "515/515 - 1s - loss: 0.2825 - accuracy: 0.8918 - 981ms/epoch - 2ms/step\n",
      "Epoch 7/10\n",
      "515/515 - 1s - loss: 0.2822 - accuracy: 0.8919 - 1s/epoch - 2ms/step\n",
      "Epoch 8/10\n",
      "515/515 - 1s - loss: 0.2829 - accuracy: 0.8909 - 1s/epoch - 2ms/step\n",
      "Epoch 9/10\n",
      "515/515 - 1s - loss: 0.2822 - accuracy: 0.8922 - 1s/epoch - 2ms/step\n",
      "Epoch 10/10\n",
      "515/515 - 1s - loss: 0.2812 - accuracy: 0.8936 - 1s/epoch - 2ms/step\n",
      "129/129 - 0s - loss: 0.2878 - accuracy: 0.8909 - 219ms/epoch - 2ms/step\n"
     ]
    },
    {
     "data": {
      "text/plain": [
       "[0.2878361642360687, 0.8909134864807129]"
      ]
     },
     "execution_count": 18,
     "metadata": {},
     "output_type": "execute_result"
    }
   ],
   "source": [
    "model = Sequential([\n",
    "    layers.Flatten(input_shape=(28,12)),\n",
    "    layers.Dense(128, activation='relu'),\n",
    "    layers.Dropout(0.2),\n",
    "    layers.Dense(128, activation='relu'),\n",
    "    layers.Dropout(0.2),\n",
    "    layers.Dense(10),\n",
    "    ])\n",
    "model.summary()\n",
    "\n",
    "loss=keras.losses.SparseCategoricalCrossentropy(from_logits=True)\n",
    "opt=keras.optimizers.Adam(lr=0.001)\n",
    "metrics=[\"accuracy\"]\n",
    "\n",
    "model.compile(loss=loss, optimizer=opt, metrics=metrics)\n",
    "\n",
    "model.fit(X_train, y_train, batch_size=64, epochs=10, verbose=2)\n",
    "\n",
    "model.evaluate(X_test, y_test, batch_size=64,verbose=2)"
   ]
  },
  {
   "cell_type": "markdown",
   "metadata": {},
   "source": [
    "LSTM Yapısı"
   ]
  },
  {
   "cell_type": "code",
   "execution_count": 19,
   "metadata": {},
   "outputs": [
    {
     "name": "stdout",
     "output_type": "stream",
     "text": [
      "Epoch 1/10\n",
      "3293/3293 [==============================] - 76s 23ms/step - loss: 0.3401 - accuracy: 0.8853\n",
      "Epoch 2/10\n",
      "3293/3293 [==============================] - 72s 22ms/step - loss: 0.2873 - accuracy: 0.8873\n",
      "Epoch 3/10\n",
      "3293/3293 [==============================] - 71s 22ms/step - loss: 0.2856 - accuracy: 0.8888\n",
      "Epoch 4/10\n",
      "3293/3293 [==============================] - 74s 22ms/step - loss: 0.2842 - accuracy: 0.8878\n",
      "Epoch 5/10\n",
      "3293/3293 [==============================] - 72s 22ms/step - loss: 0.2839 - accuracy: 0.8892\n",
      "Epoch 6/10\n",
      "3293/3293 [==============================] - 72s 22ms/step - loss: 0.2830 - accuracy: 0.8904\n",
      "Epoch 7/10\n",
      "3293/3293 [==============================] - 70s 21ms/step - loss: 0.2828 - accuracy: 0.8903\n",
      "Epoch 8/10\n",
      "3293/3293 [==============================] - 67s 20ms/step - loss: 0.2830 - accuracy: 0.8898\n",
      "Epoch 9/10\n",
      "3293/3293 [==============================] - 68s 21ms/step - loss: 0.2828 - accuracy: 0.8888\n",
      "Epoch 10/10\n",
      "3293/3293 [==============================] - 68s 21ms/step - loss: 0.2829 - accuracy: 0.8893\n"
     ]
    },
    {
     "data": {
      "text/plain": [
       "<keras.callbacks.History at 0x12f37a6ddf0>"
      ]
     },
     "execution_count": 19,
     "metadata": {},
     "output_type": "execute_result"
    }
   ],
   "source": [
    "model = Sequential()\n",
    "model.add(tf.keras.layers.LSTM(128, input_shape=(X_train.shape[1:]), activation = 'relu', return_sequences = True))\n",
    "model.add(Dropout(0.2))\n",
    "\n",
    "model.add(tf.keras.layers.LSTM(128, activation='relu'))\n",
    "model.add(Dropout(0.2))\n",
    "\n",
    "\n",
    "model.add(Dense(10, activation='relu'))\n",
    "\n",
    "opt = tf.keras.optimizers.Adam(lr=0.001, decay=0.001)\n",
    "\n",
    "model.compile(loss=loss,\n",
    "optimizer=opt,\n",
    "metrics=['accuracy'] )\n",
    "\n",
    "model.fit(x=X_train, y=y_train, batch_size=10,epochs=10)"
   ]
  }
 ],
 "metadata": {
  "interpreter": {
   "hash": "40c78e034c8090686234d715b17d5fd19830257f97e67841946e24db7d6dacb4"
  },
  "kernelspec": {
   "display_name": "Python 3.9.12 ('deeplearning')",
   "language": "python",
   "name": "python3"
  },
  "language_info": {
   "codemirror_mode": {
    "name": "ipython",
    "version": 3
   },
   "file_extension": ".py",
   "mimetype": "text/x-python",
   "name": "python",
   "nbconvert_exporter": "python",
   "pygments_lexer": "ipython3",
   "version": "3.9.12"
  },
  "orig_nbformat": 4
 },
 "nbformat": 4,
 "nbformat_minor": 2
}

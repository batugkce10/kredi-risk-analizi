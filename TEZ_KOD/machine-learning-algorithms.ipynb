{
 "cells": [
  {
   "cell_type": "markdown",
   "metadata": {},
   "source": [
    "Kütüphanelerin import edilmesi."
   ]
  },
  {
   "cell_type": "code",
   "execution_count": 1,
   "metadata": {},
   "outputs": [],
   "source": [
    "import pandas as pd\n",
    "import numpy as np\n",
    "from sklearn.model_selection import train_test_split\n",
    "from sklearn.preprocessing import LabelEncoder, StandardScaler\n",
    "from sklearn.metrics import f1_score, accuracy_score, precision_score, recall_score, confusion_matrix\n",
    "from sklearn.linear_model import LogisticRegression\n",
    "from sklearn.svm import SVC\n",
    "from time import time\n",
    "from keras.models import Sequential\n",
    "from keras.layers import Dense, Dropout\n",
    "import seaborn as sns\n",
    "import matplotlib.pyplot as plt\n"
   ]
  },
  {
   "cell_type": "markdown",
   "metadata": {},
   "source": [
    "Veri setinin, kolon isimleri Türkçeleştirilerek çekilmesi."
   ]
  },
  {
   "cell_type": "code",
   "execution_count": 2,
   "metadata": {},
   "outputs": [
    {
     "data": {
      "text/html": [
       "<div>\n",
       "<style scoped>\n",
       "    .dataframe tbody tr th:only-of-type {\n",
       "        vertical-align: middle;\n",
       "    }\n",
       "\n",
       "    .dataframe tbody tr th {\n",
       "        vertical-align: top;\n",
       "    }\n",
       "\n",
       "    .dataframe thead th {\n",
       "        text-align: right;\n",
       "    }\n",
       "</style>\n",
       "<table border=\"1\" class=\"dataframe\">\n",
       "  <thead>\n",
       "    <tr style=\"text-align: right;\">\n",
       "      <th></th>\n",
       "      <th>yas</th>\n",
       "      <th>meslek</th>\n",
       "      <th>medeni_hal</th>\n",
       "      <th>egitim_durumu</th>\n",
       "      <th>temerrud_durumu</th>\n",
       "      <th>ev_durumu</th>\n",
       "      <th>borc_durumu</th>\n",
       "      <th>iletisim_tipi</th>\n",
       "      <th>ay</th>\n",
       "      <th>gun</th>\n",
       "      <th>...</th>\n",
       "      <th>kampanya_musteri_sayisi</th>\n",
       "      <th>son_kampanya_gorusme</th>\n",
       "      <th>bu_kampanya_son_gorusme</th>\n",
       "      <th>onceki_kampanya_sonuc</th>\n",
       "      <th>is_degisim_orani</th>\n",
       "      <th>tuketici_fiyat_endeksi</th>\n",
       "      <th>tuketici_guven_endeksi</th>\n",
       "      <th>euribor_oran</th>\n",
       "      <th>calisan_sayisi</th>\n",
       "      <th>uygun_mu</th>\n",
       "    </tr>\n",
       "  </thead>\n",
       "  <tbody>\n",
       "    <tr>\n",
       "      <th>0</th>\n",
       "      <td>56</td>\n",
       "      <td>housemaid</td>\n",
       "      <td>married</td>\n",
       "      <td>basic.4y</td>\n",
       "      <td>no</td>\n",
       "      <td>no</td>\n",
       "      <td>no</td>\n",
       "      <td>telephone</td>\n",
       "      <td>may</td>\n",
       "      <td>mon</td>\n",
       "      <td>...</td>\n",
       "      <td>1</td>\n",
       "      <td>999</td>\n",
       "      <td>0</td>\n",
       "      <td>nonexistent</td>\n",
       "      <td>1.1</td>\n",
       "      <td>93.994</td>\n",
       "      <td>-36.4</td>\n",
       "      <td>4.857</td>\n",
       "      <td>5191.0</td>\n",
       "      <td>no</td>\n",
       "    </tr>\n",
       "    <tr>\n",
       "      <th>1</th>\n",
       "      <td>57</td>\n",
       "      <td>services</td>\n",
       "      <td>married</td>\n",
       "      <td>high.school</td>\n",
       "      <td>unknown</td>\n",
       "      <td>no</td>\n",
       "      <td>no</td>\n",
       "      <td>telephone</td>\n",
       "      <td>may</td>\n",
       "      <td>mon</td>\n",
       "      <td>...</td>\n",
       "      <td>1</td>\n",
       "      <td>999</td>\n",
       "      <td>0</td>\n",
       "      <td>nonexistent</td>\n",
       "      <td>1.1</td>\n",
       "      <td>93.994</td>\n",
       "      <td>-36.4</td>\n",
       "      <td>4.857</td>\n",
       "      <td>5191.0</td>\n",
       "      <td>no</td>\n",
       "    </tr>\n",
       "    <tr>\n",
       "      <th>2</th>\n",
       "      <td>37</td>\n",
       "      <td>services</td>\n",
       "      <td>married</td>\n",
       "      <td>high.school</td>\n",
       "      <td>no</td>\n",
       "      <td>yes</td>\n",
       "      <td>no</td>\n",
       "      <td>telephone</td>\n",
       "      <td>may</td>\n",
       "      <td>mon</td>\n",
       "      <td>...</td>\n",
       "      <td>1</td>\n",
       "      <td>999</td>\n",
       "      <td>0</td>\n",
       "      <td>nonexistent</td>\n",
       "      <td>1.1</td>\n",
       "      <td>93.994</td>\n",
       "      <td>-36.4</td>\n",
       "      <td>4.857</td>\n",
       "      <td>5191.0</td>\n",
       "      <td>no</td>\n",
       "    </tr>\n",
       "    <tr>\n",
       "      <th>3</th>\n",
       "      <td>40</td>\n",
       "      <td>admin.</td>\n",
       "      <td>married</td>\n",
       "      <td>basic.6y</td>\n",
       "      <td>no</td>\n",
       "      <td>no</td>\n",
       "      <td>no</td>\n",
       "      <td>telephone</td>\n",
       "      <td>may</td>\n",
       "      <td>mon</td>\n",
       "      <td>...</td>\n",
       "      <td>1</td>\n",
       "      <td>999</td>\n",
       "      <td>0</td>\n",
       "      <td>nonexistent</td>\n",
       "      <td>1.1</td>\n",
       "      <td>93.994</td>\n",
       "      <td>-36.4</td>\n",
       "      <td>4.857</td>\n",
       "      <td>5191.0</td>\n",
       "      <td>no</td>\n",
       "    </tr>\n",
       "    <tr>\n",
       "      <th>4</th>\n",
       "      <td>56</td>\n",
       "      <td>services</td>\n",
       "      <td>married</td>\n",
       "      <td>high.school</td>\n",
       "      <td>no</td>\n",
       "      <td>no</td>\n",
       "      <td>yes</td>\n",
       "      <td>telephone</td>\n",
       "      <td>may</td>\n",
       "      <td>mon</td>\n",
       "      <td>...</td>\n",
       "      <td>1</td>\n",
       "      <td>999</td>\n",
       "      <td>0</td>\n",
       "      <td>nonexistent</td>\n",
       "      <td>1.1</td>\n",
       "      <td>93.994</td>\n",
       "      <td>-36.4</td>\n",
       "      <td>4.857</td>\n",
       "      <td>5191.0</td>\n",
       "      <td>no</td>\n",
       "    </tr>\n",
       "  </tbody>\n",
       "</table>\n",
       "<p>5 rows × 21 columns</p>\n",
       "</div>"
      ],
      "text/plain": [
       "   yas     meslek medeni_hal egitim_durumu temerrud_durumu ev_durumu  \\\n",
       "0   56  housemaid    married      basic.4y              no        no   \n",
       "1   57   services    married   high.school         unknown        no   \n",
       "2   37   services    married   high.school              no       yes   \n",
       "3   40     admin.    married      basic.6y              no        no   \n",
       "4   56   services    married   high.school              no        no   \n",
       "\n",
       "  borc_durumu iletisim_tipi   ay  gun  ...  kampanya_musteri_sayisi  \\\n",
       "0          no     telephone  may  mon  ...                        1   \n",
       "1          no     telephone  may  mon  ...                        1   \n",
       "2          no     telephone  may  mon  ...                        1   \n",
       "3          no     telephone  may  mon  ...                        1   \n",
       "4         yes     telephone  may  mon  ...                        1   \n",
       "\n",
       "   son_kampanya_gorusme  bu_kampanya_son_gorusme  onceki_kampanya_sonuc  \\\n",
       "0                   999                        0            nonexistent   \n",
       "1                   999                        0            nonexistent   \n",
       "2                   999                        0            nonexistent   \n",
       "3                   999                        0            nonexistent   \n",
       "4                   999                        0            nonexistent   \n",
       "\n",
       "  is_degisim_orani  tuketici_fiyat_endeksi  tuketici_guven_endeksi  \\\n",
       "0              1.1                  93.994                   -36.4   \n",
       "1              1.1                  93.994                   -36.4   \n",
       "2              1.1                  93.994                   -36.4   \n",
       "3              1.1                  93.994                   -36.4   \n",
       "4              1.1                  93.994                   -36.4   \n",
       "\n",
       "   euribor_oran  calisan_sayisi  uygun_mu  \n",
       "0         4.857          5191.0        no  \n",
       "1         4.857          5191.0        no  \n",
       "2         4.857          5191.0        no  \n",
       "3         4.857          5191.0        no  \n",
       "4         4.857          5191.0        no  \n",
       "\n",
       "[5 rows x 21 columns]"
      ]
     },
     "execution_count": 2,
     "metadata": {},
     "output_type": "execute_result"
    }
   ],
   "source": [
    "df=pd.read_csv('bank-additional-full.csv', sep=';',)\n",
    "df.columns = ['yas', 'meslek', 'medeni_hal', 'egitim_durumu','temerrud_durumu','ev_durumu','borc_durumu','iletisim_tipi', 'ay', 'gun',\n",
    "              'son_gorusme','kampanya_musteri_sayisi', 'son_kampanya_gorusme', 'bu_kampanya_son_gorusme','onceki_kampanya_sonuc',\n",
    "               'is_degisim_orani','tuketici_fiyat_endeksi', 'tuketici_guven_endeksi', 'euribor_oran', 'calisan_sayisi', 'uygun_mu']\n",
    "df.head()"
   ]
  },
  {
   "cell_type": "code",
   "execution_count": 3,
   "metadata": {},
   "outputs": [
    {
     "data": {
      "text/plain": [
       "Index(['yas', 'meslek', 'medeni_hal', 'egitim_durumu', 'temerrud_durumu',\n",
       "       'ev_durumu', 'borc_durumu', 'iletisim_tipi', 'ay', 'gun', 'son_gorusme',\n",
       "       'kampanya_musteri_sayisi', 'son_kampanya_gorusme',\n",
       "       'bu_kampanya_son_gorusme', 'onceki_kampanya_sonuc', 'is_degisim_orani',\n",
       "       'tuketici_fiyat_endeksi', 'tuketici_guven_endeksi', 'euribor_oran',\n",
       "       'calisan_sayisi', 'uygun_mu'],\n",
       "      dtype='object')"
      ]
     },
     "execution_count": 3,
     "metadata": {},
     "output_type": "execute_result"
    }
   ],
   "source": [
    "df.columns"
   ]
  },
  {
   "cell_type": "markdown",
   "metadata": {},
   "source": [
    "Krediye uygunluk dağılımı pasta grafiği ve bar grafiği ile bastırıldı."
   ]
  },
  {
   "cell_type": "code",
   "execution_count": 4,
   "metadata": {},
   "outputs": [
    {
     "data": {
      "image/png": "[encoded data removed]",
      "text/plain": [
       "<Figure size 432x288 with 2 Axes>"
      ]
     },
     "metadata": {
      "needs_background": "light"
     },
     "output_type": "display_data"
    }
   ],
   "source": [
    "plt.rcParams['figure.figsize']=15,5\n",
    "plt.subplot(121)\n",
    "plt.title('Krediye uygunluk dağılımı', fontsize=10)\n",
    "s = sns.countplot(x=\"uygun_mu\", data=df)\n",
    "for p in s.patches:\n",
    "    s.annotate(format(p.get_height(), '.1f'), \n",
    "               (p.get_x() + p.get_width() / 2., p.get_height()), \n",
    "                ha = 'center', va = 'center', \n",
    "                xytext = (0, 4), \n",
    "                textcoords = 'offset points')\n",
    "\n",
    "ax = plt.subplot(122)\n",
    "mush_classpie = df['uygun_mu'].value_counts()\n",
    "mush_size = mush_classpie.values.tolist()\n",
    "mush_types = mush_classpie.axes[0].tolist()\n",
    "mush_label1 = 'Uygun Değil'\n",
    "mush_label2 = 'Uygun'\n",
    "colors = ['Red', 'LightGreen']\n",
    "plt.title('Krediye uygunluğun yüzdesel gösterimi', fontsize=10)\n",
    "patches, texts, autotexts = plt.pie(mush_size, labels=(mush_label1, mush_label2), colors=colors,\n",
    "        autopct='%.1f%%', shadow=False, startangle=150)\n",
    "for text,autotext in zip(texts,autotexts):\n",
    "    text.set_fontsize(14)\n",
    "    autotext.set_fontsize(14)\n",
    "\n",
    "plt.axis('equal')  \n",
    "plt.show()"
   ]
  },
  {
   "cell_type": "markdown",
   "metadata": {},
   "source": [
    "Veri setindeki eğitim durumu bar grafik ile bastırıldı"
   ]
  },
  {
   "cell_type": "code",
   "execution_count": 5,
   "metadata": {},
   "outputs": [
    {
     "data": {
      "text/plain": [
       "<AxesSubplot:xlabel='egitim_durumu', ylabel='count'>"
      ]
     },
     "execution_count": 5,
     "metadata": {},
     "output_type": "execute_result"
    },
    {
     "data": {
      "image/png": "[encoded data removed]",
      "text/plain": [
       "<Figure size 1440x720 with 1 Axes>"
      ]
     },
     "metadata": {
      "needs_background": "light"
     },
     "output_type": "display_data"
    }
   ],
   "source": [
    "plt.figure(figsize=(20,10))\n",
    "sns.countplot(x=\"egitim_durumu\", data=df, palette=\"Set2\")"
   ]
  },
  {
   "cell_type": "markdown",
   "metadata": {},
   "source": [
    "Çalışan kişilerin eğitim düzeyi dağılımı bar grafik ile bastırıldı."
   ]
  },
  {
   "cell_type": "code",
   "execution_count": 6,
   "metadata": {},
   "outputs": [
    {
     "data": {
      "text/plain": [
       "Text(0.5, 0, 'Meslek')"
      ]
     },
     "execution_count": 6,
     "metadata": {},
     "output_type": "execute_result"
    },
    {
     "data": {
      "image/png": "[encoded data removed]",
      "text/plain": [
       "<Figure size 1440x720 with 1 Axes>"
      ]
     },
     "metadata": {
      "needs_background": "light"
     },
     "output_type": "display_data"
    }
   ],
   "source": [
    "df_pivot=pd.pivot_table(df,columns='egitim_durumu', index='meslek', aggfunc='count', values='yas')\n",
    "df_pivot.plot(kind='bar', stacked=True, figsize=(20,10), alpha=1)\n",
    "plt.title('Çalışan kişi sayısı / Eğitim Düzeyi')\n",
    "plt.ylabel('Sayı')\n",
    "plt.xlabel('Meslek')"
   ]
  },
  {
   "cell_type": "markdown",
   "metadata": {},
   "source": [
    "Veri setindeki verilerin yaş dağılımı grafik olarak bastırıldı."
   ]
  },
  {
   "cell_type": "code",
   "execution_count": 7,
   "metadata": {},
   "outputs": [
    {
     "data": {
      "text/plain": [
       "Text(0, 0.5, 'Frekans')"
      ]
     },
     "execution_count": 7,
     "metadata": {},
     "output_type": "execute_result"
    },
    {
     "data": {
      "image/png": "[encoded data removed]",
      "text/plain": [
       "<Figure size 432x288 with 1 Axes>"
      ]
     },
     "metadata": {
      "needs_background": "light"
     },
     "output_type": "display_data"
    }
   ],
   "source": [
    "df.yas.hist()\n",
    "plt.title(\"Yaş dağılımı\")\n",
    "plt.xlabel(\"Yaş\")\n",
    "plt.ylabel(\"Frekans\")"
   ]
  },
  {
   "cell_type": "markdown",
   "metadata": {},
   "source": [
    "Veri setindeki verilerin temerrüd durumu bar grafik ile bastırıldı."
   ]
  },
  {
   "cell_type": "code",
   "execution_count": 8,
   "metadata": {},
   "outputs": [
    {
     "data": {
      "text/plain": [
       "<AxesSubplot:xlabel='temerrud_durumu', ylabel='count'>"
      ]
     },
     "execution_count": 8,
     "metadata": {},
     "output_type": "execute_result"
    },
    {
     "data": {
      "image/png": "[encoded data removed]",
      "text/plain": [
       "<Figure size 432x288 with 1 Axes>"
      ]
     },
     "metadata": {
      "needs_background": "light"
     },
     "output_type": "display_data"
    }
   ],
   "source": [
    "plt.figure()\n",
    "sns.countplot(x=\"temerrud_durumu\", data=df, palette=\"Set1\")"
   ]
  },
  {
   "cell_type": "markdown",
   "metadata": {},
   "source": [
    "Veri setindeki verilerin meslek durumuna göre krediye uygunluğu bar grafik olarak bastırıldı."
   ]
  },
  {
   "cell_type": "code",
   "execution_count": 9,
   "metadata": {},
   "outputs": [
    {
     "data": {
      "text/plain": [
       "Text(0, 0.5, 'Uygun mu')"
      ]
     },
     "execution_count": 9,
     "metadata": {},
     "output_type": "execute_result"
    },
    {
     "data": {
      "image/png": "[encoded data removed]",
      "text/plain": [
       "<Figure size 432x288 with 1 Axes>"
      ]
     },
     "metadata": {
      "needs_background": "light"
     },
     "output_type": "display_data"
    }
   ],
   "source": [
    "pd.crosstab(df.meslek, df.uygun_mu).plot(kind='bar')\n",
    "plt.title(\"Meslek ve Krediye uygunluk karşılaştırması\")\n",
    "plt.xlabel(\"Meslek\")\n",
    "plt.ylabel(\"Uygun mu\")"
   ]
  },
  {
   "cell_type": "markdown",
   "metadata": {},
   "source": [
    "Veri setindeki verilerin borç durumu ve krediye uygunluğu bar grafik olarak bastırıldı."
   ]
  },
  {
   "cell_type": "code",
   "execution_count": 10,
   "metadata": {},
   "outputs": [
    {
     "data": {
      "text/plain": [
       "Text(0, 0.5, 'Uygun mu')"
      ]
     },
     "execution_count": 10,
     "metadata": {},
     "output_type": "execute_result"
    },
    {
     "data": {
      "image/png": "[encoded data removed]",
      "text/plain": [
       "<Figure size 432x288 with 1 Axes>"
      ]
     },
     "metadata": {
      "needs_background": "light"
     },
     "output_type": "display_data"
    }
   ],
   "source": [
    "pd.crosstab(df.borc_durumu, df.uygun_mu).plot(kind='bar')\n",
    "plt.title(\"Borç durumu ve Krediye uygunluk karşılaştırması\")\n",
    "plt.xlabel(\"Borç durumu\")\n",
    "plt.ylabel(\"Uygun mu\")"
   ]
  },
  {
   "cell_type": "markdown",
   "metadata": {},
   "source": [
    "describe() fonksiyonu sayısal veriler ile histogramik verileri basar."
   ]
  },
  {
   "cell_type": "code",
   "execution_count": 11,
   "metadata": {},
   "outputs": [
    {
     "data": {
      "text/html": [
       "<div>\n",
       "<style scoped>\n",
       "    .dataframe tbody tr th:only-of-type {\n",
       "        vertical-align: middle;\n",
       "    }\n",
       "\n",
       "    .dataframe tbody tr th {\n",
       "        vertical-align: top;\n",
       "    }\n",
       "\n",
       "    .dataframe thead th {\n",
       "        text-align: right;\n",
       "    }\n",
       "</style>\n",
       "<table border=\"1\" class=\"dataframe\">\n",
       "  <thead>\n",
       "    <tr style=\"text-align: right;\">\n",
       "      <th></th>\n",
       "      <th>yas</th>\n",
       "      <th>son_gorusme</th>\n",
       "      <th>kampanya_musteri_sayisi</th>\n",
       "      <th>son_kampanya_gorusme</th>\n",
       "      <th>bu_kampanya_son_gorusme</th>\n",
       "      <th>is_degisim_orani</th>\n",
       "      <th>tuketici_fiyat_endeksi</th>\n",
       "      <th>tuketici_guven_endeksi</th>\n",
       "      <th>euribor_oran</th>\n",
       "      <th>calisan_sayisi</th>\n",
       "    </tr>\n",
       "  </thead>\n",
       "  <tbody>\n",
       "    <tr>\n",
       "      <th>count</th>\n",
       "      <td>41188.00000</td>\n",
       "      <td>41188.000000</td>\n",
       "      <td>41188.000000</td>\n",
       "      <td>41188.000000</td>\n",
       "      <td>41188.000000</td>\n",
       "      <td>41188.000000</td>\n",
       "      <td>41188.000000</td>\n",
       "      <td>41188.000000</td>\n",
       "      <td>41188.000000</td>\n",
       "      <td>41188.000000</td>\n",
       "    </tr>\n",
       "    <tr>\n",
       "      <th>mean</th>\n",
       "      <td>40.02406</td>\n",
       "      <td>258.285010</td>\n",
       "      <td>2.567593</td>\n",
       "      <td>962.475454</td>\n",
       "      <td>0.172963</td>\n",
       "      <td>0.081886</td>\n",
       "      <td>93.575664</td>\n",
       "      <td>-40.502600</td>\n",
       "      <td>3.621291</td>\n",
       "      <td>5167.035911</td>\n",
       "    </tr>\n",
       "    <tr>\n",
       "      <th>std</th>\n",
       "      <td>10.42125</td>\n",
       "      <td>259.279249</td>\n",
       "      <td>2.770014</td>\n",
       "      <td>186.910907</td>\n",
       "      <td>0.494901</td>\n",
       "      <td>1.570960</td>\n",
       "      <td>0.578840</td>\n",
       "      <td>4.628198</td>\n",
       "      <td>1.734447</td>\n",
       "      <td>72.251528</td>\n",
       "    </tr>\n",
       "    <tr>\n",
       "      <th>min</th>\n",
       "      <td>17.00000</td>\n",
       "      <td>0.000000</td>\n",
       "      <td>1.000000</td>\n",
       "      <td>0.000000</td>\n",
       "      <td>0.000000</td>\n",
       "      <td>-3.400000</td>\n",
       "      <td>92.201000</td>\n",
       "      <td>-50.800000</td>\n",
       "      <td>0.634000</td>\n",
       "      <td>4963.600000</td>\n",
       "    </tr>\n",
       "    <tr>\n",
       "      <th>25%</th>\n",
       "      <td>32.00000</td>\n",
       "      <td>102.000000</td>\n",
       "      <td>1.000000</td>\n",
       "      <td>999.000000</td>\n",
       "      <td>0.000000</td>\n",
       "      <td>-1.800000</td>\n",
       "      <td>93.075000</td>\n",
       "      <td>-42.700000</td>\n",
       "      <td>1.344000</td>\n",
       "      <td>5099.100000</td>\n",
       "    </tr>\n",
       "    <tr>\n",
       "      <th>50%</th>\n",
       "      <td>38.00000</td>\n",
       "      <td>180.000000</td>\n",
       "      <td>2.000000</td>\n",
       "      <td>999.000000</td>\n",
       "      <td>0.000000</td>\n",
       "      <td>1.100000</td>\n",
       "      <td>93.749000</td>\n",
       "      <td>-41.800000</td>\n",
       "      <td>4.857000</td>\n",
       "      <td>5191.000000</td>\n",
       "    </tr>\n",
       "    <tr>\n",
       "      <th>75%</th>\n",
       "      <td>47.00000</td>\n",
       "      <td>319.000000</td>\n",
       "      <td>3.000000</td>\n",
       "      <td>999.000000</td>\n",
       "      <td>0.000000</td>\n",
       "      <td>1.400000</td>\n",
       "      <td>93.994000</td>\n",
       "      <td>-36.400000</td>\n",
       "      <td>4.961000</td>\n",
       "      <td>5228.100000</td>\n",
       "    </tr>\n",
       "    <tr>\n",
       "      <th>max</th>\n",
       "      <td>98.00000</td>\n",
       "      <td>4918.000000</td>\n",
       "      <td>56.000000</td>\n",
       "      <td>999.000000</td>\n",
       "      <td>7.000000</td>\n",
       "      <td>1.400000</td>\n",
       "      <td>94.767000</td>\n",
       "      <td>-26.900000</td>\n",
       "      <td>5.045000</td>\n",
       "      <td>5228.100000</td>\n",
       "    </tr>\n",
       "  </tbody>\n",
       "</table>\n",
       "</div>"
      ],
      "text/plain": [
       "               yas   son_gorusme  kampanya_musteri_sayisi  \\\n",
       "count  41188.00000  41188.000000             41188.000000   \n",
       "mean      40.02406    258.285010                 2.567593   \n",
       "std       10.42125    259.279249                 2.770014   \n",
       "min       17.00000      0.000000                 1.000000   \n",
       "25%       32.00000    102.000000                 1.000000   \n",
       "50%       38.00000    180.000000                 2.000000   \n",
       "75%       47.00000    319.000000                 3.000000   \n",
       "max       98.00000   4918.000000                56.000000   \n",
       "\n",
       "       son_kampanya_gorusme  bu_kampanya_son_gorusme  is_degisim_orani  \\\n",
       "count          41188.000000             41188.000000      41188.000000   \n",
       "mean             962.475454                 0.172963          0.081886   \n",
       "std              186.910907                 0.494901          1.570960   \n",
       "min                0.000000                 0.000000         -3.400000   \n",
       "25%              999.000000                 0.000000         -1.800000   \n",
       "50%              999.000000                 0.000000          1.100000   \n",
       "75%              999.000000                 0.000000          1.400000   \n",
       "max              999.000000                 7.000000          1.400000   \n",
       "\n",
       "       tuketici_fiyat_endeksi  tuketici_guven_endeksi  euribor_oran  \\\n",
       "count            41188.000000            41188.000000  41188.000000   \n",
       "mean                93.575664              -40.502600      3.621291   \n",
       "std                  0.578840                4.628198      1.734447   \n",
       "min                 92.201000              -50.800000      0.634000   \n",
       "25%                 93.075000              -42.700000      1.344000   \n",
       "50%                 93.749000              -41.800000      4.857000   \n",
       "75%                 93.994000              -36.400000      4.961000   \n",
       "max                 94.767000              -26.900000      5.045000   \n",
       "\n",
       "       calisan_sayisi  \n",
       "count    41188.000000  \n",
       "mean      5167.035911  \n",
       "std         72.251528  \n",
       "min       4963.600000  \n",
       "25%       5099.100000  \n",
       "50%       5191.000000  \n",
       "75%       5228.100000  \n",
       "max       5228.100000  "
      ]
     },
     "execution_count": 11,
     "metadata": {},
     "output_type": "execute_result"
    }
   ],
   "source": [
    "df.describe()"
   ]
  },
  {
   "cell_type": "markdown",
   "metadata": {},
   "source": [
    "Label Encoding işlemine başlandı."
   ]
  },
  {
   "cell_type": "code",
   "execution_count": 12,
   "metadata": {},
   "outputs": [
    {
     "data": {
      "text/html": [
       "<div>\n",
       "<style scoped>\n",
       "    .dataframe tbody tr th:only-of-type {\n",
       "        vertical-align: middle;\n",
       "    }\n",
       "\n",
       "    .dataframe tbody tr th {\n",
       "        vertical-align: top;\n",
       "    }\n",
       "\n",
       "    .dataframe thead th {\n",
       "        text-align: right;\n",
       "    }\n",
       "</style>\n",
       "<table border=\"1\" class=\"dataframe\">\n",
       "  <thead>\n",
       "    <tr style=\"text-align: right;\">\n",
       "      <th></th>\n",
       "      <th>yas</th>\n",
       "      <th>meslek</th>\n",
       "      <th>medeni_hal</th>\n",
       "      <th>egitim_durumu</th>\n",
       "      <th>temerrud_durumu</th>\n",
       "      <th>ev_durumu</th>\n",
       "      <th>borc_durumu</th>\n",
       "      <th>iletisim_tipi</th>\n",
       "      <th>ay</th>\n",
       "      <th>gun</th>\n",
       "      <th>...</th>\n",
       "      <th>kampanya_musteri_sayisi</th>\n",
       "      <th>son_kampanya_gorusme</th>\n",
       "      <th>bu_kampanya_son_gorusme</th>\n",
       "      <th>onceki_kampanya_sonuc</th>\n",
       "      <th>is_degisim_orani</th>\n",
       "      <th>tuketici_fiyat_endeksi</th>\n",
       "      <th>tuketici_guven_endeksi</th>\n",
       "      <th>euribor_oran</th>\n",
       "      <th>calisan_sayisi</th>\n",
       "      <th>uygun_mu</th>\n",
       "    </tr>\n",
       "  </thead>\n",
       "  <tbody>\n",
       "    <tr>\n",
       "      <th>0</th>\n",
       "      <td>56</td>\n",
       "      <td>1</td>\n",
       "      <td>married</td>\n",
       "      <td>1</td>\n",
       "      <td>no</td>\n",
       "      <td>no</td>\n",
       "      <td>no</td>\n",
       "      <td>telephone</td>\n",
       "      <td>may</td>\n",
       "      <td>mon</td>\n",
       "      <td>...</td>\n",
       "      <td>1</td>\n",
       "      <td>999</td>\n",
       "      <td>0</td>\n",
       "      <td>0</td>\n",
       "      <td>1.1</td>\n",
       "      <td>93.994</td>\n",
       "      <td>-36.4</td>\n",
       "      <td>4.857</td>\n",
       "      <td>5191.0</td>\n",
       "      <td>0</td>\n",
       "    </tr>\n",
       "    <tr>\n",
       "      <th>1</th>\n",
       "      <td>57</td>\n",
       "      <td>1</td>\n",
       "      <td>married</td>\n",
       "      <td>1</td>\n",
       "      <td>unknown</td>\n",
       "      <td>no</td>\n",
       "      <td>no</td>\n",
       "      <td>telephone</td>\n",
       "      <td>may</td>\n",
       "      <td>mon</td>\n",
       "      <td>...</td>\n",
       "      <td>1</td>\n",
       "      <td>999</td>\n",
       "      <td>0</td>\n",
       "      <td>0</td>\n",
       "      <td>1.1</td>\n",
       "      <td>93.994</td>\n",
       "      <td>-36.4</td>\n",
       "      <td>4.857</td>\n",
       "      <td>5191.0</td>\n",
       "      <td>0</td>\n",
       "    </tr>\n",
       "    <tr>\n",
       "      <th>2</th>\n",
       "      <td>37</td>\n",
       "      <td>1</td>\n",
       "      <td>married</td>\n",
       "      <td>1</td>\n",
       "      <td>no</td>\n",
       "      <td>yes</td>\n",
       "      <td>no</td>\n",
       "      <td>telephone</td>\n",
       "      <td>may</td>\n",
       "      <td>mon</td>\n",
       "      <td>...</td>\n",
       "      <td>1</td>\n",
       "      <td>999</td>\n",
       "      <td>0</td>\n",
       "      <td>0</td>\n",
       "      <td>1.1</td>\n",
       "      <td>93.994</td>\n",
       "      <td>-36.4</td>\n",
       "      <td>4.857</td>\n",
       "      <td>5191.0</td>\n",
       "      <td>0</td>\n",
       "    </tr>\n",
       "    <tr>\n",
       "      <th>3</th>\n",
       "      <td>40</td>\n",
       "      <td>1</td>\n",
       "      <td>married</td>\n",
       "      <td>1</td>\n",
       "      <td>no</td>\n",
       "      <td>no</td>\n",
       "      <td>no</td>\n",
       "      <td>telephone</td>\n",
       "      <td>may</td>\n",
       "      <td>mon</td>\n",
       "      <td>...</td>\n",
       "      <td>1</td>\n",
       "      <td>999</td>\n",
       "      <td>0</td>\n",
       "      <td>0</td>\n",
       "      <td>1.1</td>\n",
       "      <td>93.994</td>\n",
       "      <td>-36.4</td>\n",
       "      <td>4.857</td>\n",
       "      <td>5191.0</td>\n",
       "      <td>0</td>\n",
       "    </tr>\n",
       "    <tr>\n",
       "      <th>4</th>\n",
       "      <td>56</td>\n",
       "      <td>1</td>\n",
       "      <td>married</td>\n",
       "      <td>1</td>\n",
       "      <td>no</td>\n",
       "      <td>no</td>\n",
       "      <td>yes</td>\n",
       "      <td>telephone</td>\n",
       "      <td>may</td>\n",
       "      <td>mon</td>\n",
       "      <td>...</td>\n",
       "      <td>1</td>\n",
       "      <td>999</td>\n",
       "      <td>0</td>\n",
       "      <td>0</td>\n",
       "      <td>1.1</td>\n",
       "      <td>93.994</td>\n",
       "      <td>-36.4</td>\n",
       "      <td>4.857</td>\n",
       "      <td>5191.0</td>\n",
       "      <td>0</td>\n",
       "    </tr>\n",
       "  </tbody>\n",
       "</table>\n",
       "<p>5 rows × 21 columns</p>\n",
       "</div>"
      ],
      "text/plain": [
       "   yas  meslek medeni_hal  egitim_durumu temerrud_durumu ev_durumu  \\\n",
       "0   56       1    married              1              no        no   \n",
       "1   57       1    married              1         unknown        no   \n",
       "2   37       1    married              1              no       yes   \n",
       "3   40       1    married              1              no        no   \n",
       "4   56       1    married              1              no        no   \n",
       "\n",
       "  borc_durumu iletisim_tipi   ay  gun  ...  kampanya_musteri_sayisi  \\\n",
       "0          no     telephone  may  mon  ...                        1   \n",
       "1          no     telephone  may  mon  ...                        1   \n",
       "2          no     telephone  may  mon  ...                        1   \n",
       "3          no     telephone  may  mon  ...                        1   \n",
       "4         yes     telephone  may  mon  ...                        1   \n",
       "\n",
       "   son_kampanya_gorusme  bu_kampanya_son_gorusme  onceki_kampanya_sonuc  \\\n",
       "0                   999                        0                      0   \n",
       "1                   999                        0                      0   \n",
       "2                   999                        0                      0   \n",
       "3                   999                        0                      0   \n",
       "4                   999                        0                      0   \n",
       "\n",
       "   is_degisim_orani  tuketici_fiyat_endeksi  tuketici_guven_endeksi  \\\n",
       "0               1.1                  93.994                   -36.4   \n",
       "1               1.1                  93.994                   -36.4   \n",
       "2               1.1                  93.994                   -36.4   \n",
       "3               1.1                  93.994                   -36.4   \n",
       "4               1.1                  93.994                   -36.4   \n",
       "\n",
       "   euribor_oran  calisan_sayisi  uygun_mu  \n",
       "0         4.857          5191.0         0  \n",
       "1         4.857          5191.0         0  \n",
       "2         4.857          5191.0         0  \n",
       "3         4.857          5191.0         0  \n",
       "4         4.857          5191.0         0  \n",
       "\n",
       "[5 rows x 21 columns]"
      ]
     },
     "execution_count": 12,
     "metadata": {},
     "output_type": "execute_result"
    }
   ],
   "source": [
    "dict_meslek = {\n",
    "    \"meslek\":{\n",
    "        \"housemaid\":1,\n",
    "        \"unemployed\":0,\n",
    "        \"entrepreneur\":1,\n",
    "        \"blue-collar\":1,\n",
    "        \"services\":1,\n",
    "        \"admin.\":1,\n",
    "        \"technician\":1,\n",
    "        \"retired\":1,\n",
    "        \"management\":1,\n",
    "        \"self-employed\":1,\n",
    "        \"unknown\":0,\n",
    "        \"student\":0\n",
    "    }}\n",
    "dict_egitim_durumu = {\n",
    "    \"egitim_durumu\":{\n",
    "        \"basic.4y\":1,\n",
    "        \"basic.6y\":1,\n",
    "        \"basic.9y\":1,\n",
    "        \"high.school\":1,\n",
    "        \"professional.course\":1,\n",
    "        \"university.degree\":1,\n",
    "        \"illiterate\":0,\n",
    "        \"unknown\":0\n",
    "    }}\n",
    "\n",
    "dict_onceki_kampanya_sonuc = {\n",
    "    \"onceki_kampanya_sonuc\":{\n",
    "        \"nonexistent\":0,\n",
    "        \"failure\":0,\n",
    "        \"success\":1\n",
    "    }}\n",
    "dict_uygun_mu = {\n",
    "    \"uygun_mu\":{\n",
    "        \"no\":0,\n",
    "        \"yes\":1\n",
    "    }}\n",
    "for i in [dict_onceki_kampanya_sonuc,dict_uygun_mu, dict_egitim_durumu, dict_meslek]:\n",
    "    df.replace(i,inplace=True)\n",
    "df.head(5)"
   ]
  },
  {
   "cell_type": "markdown",
   "metadata": {},
   "source": [
    "Label encoding işlemi devamı."
   ]
  },
  {
   "cell_type": "code",
   "execution_count": 13,
   "metadata": {},
   "outputs": [
    {
     "data": {
      "text/html": [
       "<div>\n",
       "<style scoped>\n",
       "    .dataframe tbody tr th:only-of-type {\n",
       "        vertical-align: middle;\n",
       "    }\n",
       "\n",
       "    .dataframe tbody tr th {\n",
       "        vertical-align: top;\n",
       "    }\n",
       "\n",
       "    .dataframe thead th {\n",
       "        text-align: right;\n",
       "    }\n",
       "</style>\n",
       "<table border=\"1\" class=\"dataframe\">\n",
       "  <thead>\n",
       "    <tr style=\"text-align: right;\">\n",
       "      <th></th>\n",
       "      <th>yas</th>\n",
       "      <th>meslek</th>\n",
       "      <th>medeni_hal</th>\n",
       "      <th>egitim_durumu</th>\n",
       "      <th>temerrud_durumu</th>\n",
       "      <th>ev_durumu</th>\n",
       "      <th>borc_durumu</th>\n",
       "      <th>iletisim_tipi</th>\n",
       "      <th>ay</th>\n",
       "      <th>gun</th>\n",
       "      <th>...</th>\n",
       "      <th>kampanya_musteri_sayisi</th>\n",
       "      <th>son_kampanya_gorusme</th>\n",
       "      <th>bu_kampanya_son_gorusme</th>\n",
       "      <th>onceki_kampanya_sonuc</th>\n",
       "      <th>is_degisim_orani</th>\n",
       "      <th>tuketici_fiyat_endeksi</th>\n",
       "      <th>tuketici_guven_endeksi</th>\n",
       "      <th>euribor_oran</th>\n",
       "      <th>calisan_sayisi</th>\n",
       "      <th>uygun_mu</th>\n",
       "    </tr>\n",
       "  </thead>\n",
       "  <tbody>\n",
       "    <tr>\n",
       "      <th>0</th>\n",
       "      <td>56</td>\n",
       "      <td>1</td>\n",
       "      <td>1</td>\n",
       "      <td>1</td>\n",
       "      <td>0</td>\n",
       "      <td>0</td>\n",
       "      <td>0</td>\n",
       "      <td>telephone</td>\n",
       "      <td>may</td>\n",
       "      <td>mon</td>\n",
       "      <td>...</td>\n",
       "      <td>1</td>\n",
       "      <td>999</td>\n",
       "      <td>0</td>\n",
       "      <td>0</td>\n",
       "      <td>1.1</td>\n",
       "      <td>93.994</td>\n",
       "      <td>-36.4</td>\n",
       "      <td>4.857</td>\n",
       "      <td>5191.0</td>\n",
       "      <td>0</td>\n",
       "    </tr>\n",
       "    <tr>\n",
       "      <th>1</th>\n",
       "      <td>57</td>\n",
       "      <td>1</td>\n",
       "      <td>1</td>\n",
       "      <td>1</td>\n",
       "      <td>1</td>\n",
       "      <td>0</td>\n",
       "      <td>0</td>\n",
       "      <td>telephone</td>\n",
       "      <td>may</td>\n",
       "      <td>mon</td>\n",
       "      <td>...</td>\n",
       "      <td>1</td>\n",
       "      <td>999</td>\n",
       "      <td>0</td>\n",
       "      <td>0</td>\n",
       "      <td>1.1</td>\n",
       "      <td>93.994</td>\n",
       "      <td>-36.4</td>\n",
       "      <td>4.857</td>\n",
       "      <td>5191.0</td>\n",
       "      <td>0</td>\n",
       "    </tr>\n",
       "    <tr>\n",
       "      <th>2</th>\n",
       "      <td>37</td>\n",
       "      <td>1</td>\n",
       "      <td>1</td>\n",
       "      <td>1</td>\n",
       "      <td>0</td>\n",
       "      <td>2</td>\n",
       "      <td>0</td>\n",
       "      <td>telephone</td>\n",
       "      <td>may</td>\n",
       "      <td>mon</td>\n",
       "      <td>...</td>\n",
       "      <td>1</td>\n",
       "      <td>999</td>\n",
       "      <td>0</td>\n",
       "      <td>0</td>\n",
       "      <td>1.1</td>\n",
       "      <td>93.994</td>\n",
       "      <td>-36.4</td>\n",
       "      <td>4.857</td>\n",
       "      <td>5191.0</td>\n",
       "      <td>0</td>\n",
       "    </tr>\n",
       "    <tr>\n",
       "      <th>3</th>\n",
       "      <td>40</td>\n",
       "      <td>1</td>\n",
       "      <td>1</td>\n",
       "      <td>1</td>\n",
       "      <td>0</td>\n",
       "      <td>0</td>\n",
       "      <td>0</td>\n",
       "      <td>telephone</td>\n",
       "      <td>may</td>\n",
       "      <td>mon</td>\n",
       "      <td>...</td>\n",
       "      <td>1</td>\n",
       "      <td>999</td>\n",
       "      <td>0</td>\n",
       "      <td>0</td>\n",
       "      <td>1.1</td>\n",
       "      <td>93.994</td>\n",
       "      <td>-36.4</td>\n",
       "      <td>4.857</td>\n",
       "      <td>5191.0</td>\n",
       "      <td>0</td>\n",
       "    </tr>\n",
       "    <tr>\n",
       "      <th>4</th>\n",
       "      <td>56</td>\n",
       "      <td>1</td>\n",
       "      <td>1</td>\n",
       "      <td>1</td>\n",
       "      <td>0</td>\n",
       "      <td>0</td>\n",
       "      <td>2</td>\n",
       "      <td>telephone</td>\n",
       "      <td>may</td>\n",
       "      <td>mon</td>\n",
       "      <td>...</td>\n",
       "      <td>1</td>\n",
       "      <td>999</td>\n",
       "      <td>0</td>\n",
       "      <td>0</td>\n",
       "      <td>1.1</td>\n",
       "      <td>93.994</td>\n",
       "      <td>-36.4</td>\n",
       "      <td>4.857</td>\n",
       "      <td>5191.0</td>\n",
       "      <td>0</td>\n",
       "    </tr>\n",
       "  </tbody>\n",
       "</table>\n",
       "<p>5 rows × 21 columns</p>\n",
       "</div>"
      ],
      "text/plain": [
       "   yas  meslek  medeni_hal  egitim_durumu  temerrud_durumu  ev_durumu  \\\n",
       "0   56       1           1              1                0          0   \n",
       "1   57       1           1              1                1          0   \n",
       "2   37       1           1              1                0          2   \n",
       "3   40       1           1              1                0          0   \n",
       "4   56       1           1              1                0          0   \n",
       "\n",
       "   borc_durumu iletisim_tipi   ay  gun  ...  kampanya_musteri_sayisi  \\\n",
       "0            0     telephone  may  mon  ...                        1   \n",
       "1            0     telephone  may  mon  ...                        1   \n",
       "2            0     telephone  may  mon  ...                        1   \n",
       "3            0     telephone  may  mon  ...                        1   \n",
       "4            2     telephone  may  mon  ...                        1   \n",
       "\n",
       "   son_kampanya_gorusme  bu_kampanya_son_gorusme  onceki_kampanya_sonuc  \\\n",
       "0                   999                        0                      0   \n",
       "1                   999                        0                      0   \n",
       "2                   999                        0                      0   \n",
       "3                   999                        0                      0   \n",
       "4                   999                        0                      0   \n",
       "\n",
       "   is_degisim_orani  tuketici_fiyat_endeksi  tuketici_guven_endeksi  \\\n",
       "0               1.1                  93.994                   -36.4   \n",
       "1               1.1                  93.994                   -36.4   \n",
       "2               1.1                  93.994                   -36.4   \n",
       "3               1.1                  93.994                   -36.4   \n",
       "4               1.1                  93.994                   -36.4   \n",
       "\n",
       "   euribor_oran  calisan_sayisi  uygun_mu  \n",
       "0         4.857          5191.0         0  \n",
       "1         4.857          5191.0         0  \n",
       "2         4.857          5191.0         0  \n",
       "3         4.857          5191.0         0  \n",
       "4         4.857          5191.0         0  \n",
       "\n",
       "[5 rows x 21 columns]"
      ]
     },
     "execution_count": 13,
     "metadata": {},
     "output_type": "execute_result"
    }
   ],
   "source": [
    "lc_X1 = LabelEncoder()\n",
    "list = ['medeni_hal','temerrud_durumu','ev_durumu','borc_durumu']\n",
    "\n",
    "for i in list:\n",
    "    df[i] = lc_X1.fit_transform(df[i])\n",
    "df_cor = pd.get_dummies(df,\n",
    "                       columns=['medeni_hal','temerrud_durumu','ev_durumu','borc_durumu'],\n",
    "                       drop_first=True)\n",
    "df.head()"
   ]
  },
  {
   "cell_type": "markdown",
   "metadata": {},
   "source": [
    "Veri setindeki çıktı kolonu olan 'uygun_mu' kolonu ile diğer kolonlar arasındaki korelasyon oranı hesaplandı."
   ]
  },
  {
   "cell_type": "code",
   "execution_count": 14,
   "metadata": {},
   "outputs": [
    {
     "name": "stdout",
     "output_type": "stream",
     "text": [
      "calisan_sayisi            -0.354678\n",
      "son_kampanya_gorusme      -0.324914\n",
      "euribor_oran              -0.307771\n",
      "is_degisim_orani          -0.298334\n",
      "tuketici_fiyat_endeksi    -0.136211\n",
      "temerrud_durumu_1         -0.099293\n",
      "meslek                    -0.070073\n",
      "kampanya_musteri_sayisi   -0.066357\n",
      "medeni_hal_1              -0.043398\n",
      "egitim_durumu             -0.022075\n",
      "borc_durumu_2             -0.004466\n",
      "temerrud_durumu_2         -0.003041\n",
      "borc_durumu_1             -0.002270\n",
      "ev_durumu_1               -0.002270\n",
      "medeni_hal_3               0.005211\n",
      "ev_durumu_2                0.011743\n",
      "yas                        0.030399\n",
      "medeni_hal_2               0.054133\n",
      "tuketici_guven_endeksi     0.054878\n",
      "bu_kampanya_son_gorusme    0.230181\n",
      "onceki_kampanya_sonuc      0.316269\n",
      "son_gorusme                0.405274\n",
      "uygun_mu                   1.000000\n",
      "Name: uygun_mu, dtype: float64\n"
     ]
    }
   ],
   "source": [
    "korelasyon = df_cor.corr()\n",
    "print(korelasyon['uygun_mu'].sort_values(axis=0, ascending=True))"
   ]
  },
  {
   "cell_type": "markdown",
   "metadata": {},
   "source": [
    "Korelasyon sayısı düşük olan kolonlar çıkarıldı."
   ]
  },
  {
   "cell_type": "code",
   "execution_count": 15,
   "metadata": {},
   "outputs": [],
   "source": [
    "df_cor.drop(columns=[\n",
    "    'calisan_sayisi','son_kampanya_gorusme','euribor_oran','is_degisim_orani',\n",
    "    'tuketici_fiyat_endeksi','iletisim_tipi','ay','kampanya_musteri_sayisi', 'gun'\n",
    "    ], axis=0, inplace=True)"
   ]
  },
  {
   "cell_type": "code",
   "execution_count": 16,
   "metadata": {},
   "outputs": [
    {
     "name": "stdout",
     "output_type": "stream",
     "text": [
      "temerrud_durumu_1         -0.099293\n",
      "meslek                    -0.070073\n",
      "medeni_hal_1              -0.043398\n",
      "egitim_durumu             -0.022075\n",
      "borc_durumu_2             -0.004466\n",
      "temerrud_durumu_2         -0.003041\n",
      "borc_durumu_1             -0.002270\n",
      "ev_durumu_1               -0.002270\n",
      "medeni_hal_3               0.005211\n",
      "ev_durumu_2                0.011743\n",
      "yas                        0.030399\n",
      "medeni_hal_2               0.054133\n",
      "tuketici_guven_endeksi     0.054878\n",
      "bu_kampanya_son_gorusme    0.230181\n",
      "onceki_kampanya_sonuc      0.316269\n",
      "son_gorusme                0.405274\n",
      "uygun_mu                   1.000000\n",
      "Name: uygun_mu, dtype: float64\n"
     ]
    }
   ],
   "source": [
    "korelasyon_orani = df_cor.corr()\n",
    "print(korelasyon_orani['uygun_mu'].sort_values(axis=0, ascending=True))"
   ]
  },
  {
   "cell_type": "markdown",
   "metadata": {},
   "source": [
    "Veri setinin eğitim ve test datası olarak parçalanması"
   ]
  },
  {
   "cell_type": "code",
   "execution_count": 17,
   "metadata": {},
   "outputs": [],
   "source": [
    "X = df_cor.drop(columns = 'uygun_mu',axis=1).values\n",
    "y = df_cor['uygun_mu'].values "
   ]
  },
  {
   "cell_type": "code",
   "execution_count": 18,
   "metadata": {},
   "outputs": [],
   "source": [
    "X_train,X_test,y_train,y_test = train_test_split(X,y,test_size=0.2,random_state=101)"
   ]
  },
  {
   "cell_type": "code",
   "execution_count": 31,
   "metadata": {},
   "outputs": [
    {
     "data": {
      "text/plain": [
       "(8238, 16)"
      ]
     },
     "execution_count": 31,
     "metadata": {},
     "output_type": "execute_result"
    }
   ],
   "source": [
    "X_test.shape"
   ]
  },
  {
   "cell_type": "code",
   "execution_count": 20,
   "metadata": {},
   "outputs": [],
   "source": [
    "sc = StandardScaler()\n",
    "X_train = sc.fit_transform(X_train)\n",
    "X_test = sc.fit_transform(X_test)"
   ]
  },
  {
   "cell_type": "markdown",
   "metadata": {},
   "source": [
    "Confusion Matrisi kodu"
   ]
  },
  {
   "cell_type": "code",
   "execution_count": 32,
   "metadata": {},
   "outputs": [],
   "source": [
    "def print_scores(model, labels, pred):\n",
    "\n",
    "    accuracy = round(accuracy_score(labels, pred), 3)\n",
    "    precision = round(precision_score(labels, pred), 3)    \n",
    "    recall = round(recall_score(labels, pred), 3)\n",
    "    f1 = round(f1_score(labels, pred), 3)\n",
    "    \n",
    "    cm = confusion_matrix(labels, pred)\n",
    "    df = pd.DataFrame(cm)\n",
    "    \n",
    "    labels = [f\"FN: {df[0][0]} \",f\"FP: {df[1][1]} \",f\"TN: {df[1][0]} \",f\"TP: {df[0][1]} \"]\n",
    "    labels = np.asarray(labels).reshape(2,2)\n",
    "    \n",
    "    f, ax = plt.subplots(figsize=(6,5))\n",
    "    sns.heatmap(cm, annot=labels, fmt='', cmap='Blues', ax=ax)    \n",
    "    print(f\"{model}:: Accuracy: {accuracy}, Precision: {precision}, Recall: {recall}, f1_score: {f1}\")\n",
    "\n",
    "def print_cv_result(results):\n",
    "    print(f\"Best Params : {results.best_params_}\\n\")\n",
    "    \n",
    "    means = results.cv_results_['ortalama_skor']\n",
    "    stds = results.cv_results_['standart_sapma_skor']\n",
    "    \n",
    "    for mean, std, params in zip(means, stds, results.cv_results_['params']):\n",
    "        print(f'{round(mean, 3)} (+/-{round(std * 2, 3)}) for {params}')"
   ]
  },
  {
   "cell_type": "markdown",
   "metadata": {},
   "source": [
    "SVM algoritması"
   ]
  },
  {
   "cell_type": "code",
   "execution_count": 33,
   "metadata": {},
   "outputs": [
    {
     "name": "stdout",
     "output_type": "stream",
     "text": [
      "SVM:: Accuracy: 0.9, Precision: 0.667, Recall: 0.29, f1_score: 0.404\n"
     ]
    },
    {
     "data": {
      "image/png": "[encoded data removed]",
      "text/plain": [
       "<Figure size 432x360 with 2 Axes>"
      ]
     },
     "metadata": {
      "needs_background": "light"
     },
     "output_type": "display_data"
    }
   ],
   "source": [
    "svc = SVC(kernel = \"rbf\", C=10)\n",
    "svc.fit(X_train,y_train)\n",
    "y_pred_svm = svc.predict(X_test)\n",
    "print_scores(\"SVM\", y_test, y_pred_svm)"
   ]
  },
  {
   "cell_type": "markdown",
   "metadata": {},
   "source": [
    "Logistic Regression Algoritması"
   ]
  },
  {
   "cell_type": "code",
   "execution_count": 34,
   "metadata": {},
   "outputs": [
    {
     "name": "stdout",
     "output_type": "stream",
     "text": [
      "LGR:: Accuracy: 0.901, Precision: 0.667, Recall: 0.307, f1_score: 0.42\n"
     ]
    },
    {
     "data": {
      "image/png": "[encoded data removed]",
      "text/plain": [
       "<Figure size 432x360 with 2 Axes>"
      ]
     },
     "metadata": {
      "needs_background": "light"
     },
     "output_type": "display_data"
    }
   ],
   "source": [
    "lgr = LogisticRegression()\n",
    "lgr.fit(X_train, y_train)\n",
    "y_pred_lgr = lgr.predict(X_test)\n",
    "print_scores(\"LGR\", y_test, y_pred_lgr)"
   ]
  },
  {
   "cell_type": "markdown",
   "metadata": {},
   "source": [
    "Artificial Neural Network"
   ]
  },
  {
   "cell_type": "code",
   "execution_count": 24,
   "metadata": {},
   "outputs": [
    {
     "name": "stdout",
     "output_type": "stream",
     "text": [
      "(41188, 17)\n"
     ]
    }
   ],
   "source": [
    "classifier = Sequential()\n",
    "print(df_cor.shape)"
   ]
  },
  {
   "cell_type": "code",
   "execution_count": 37,
   "metadata": {},
   "outputs": [
    {
     "name": "stdout",
     "output_type": "stream",
     "text": [
      "Epoch 1/5\n",
      "3295/3295 [==============================] - 8s 2ms/step - loss: 0.3643 - accuracy: 0.8880\n",
      "Epoch 2/5\n",
      "3295/3295 [==============================] - 7s 2ms/step - loss: 0.3506 - accuracy: 0.8883\n",
      "Epoch 3/5\n",
      "3295/3295 [==============================] - 6s 2ms/step - loss: 0.3505 - accuracy: 0.8883\n",
      "Epoch 4/5\n",
      "3295/3295 [==============================] - 6s 2ms/step - loss: 0.3505 - accuracy: 0.8883\n",
      "Epoch 5/5\n",
      "3295/3295 [==============================] - 7s 2ms/step - loss: 0.3507 - accuracy: 0.8883\n"
     ]
    },
    {
     "data": {
      "text/plain": [
       "<keras.callbacks.History at 0x1e63679ed90>"
      ]
     },
     "execution_count": 37,
     "metadata": {},
     "output_type": "execute_result"
    }
   ],
   "source": [
    "classifier.add(Dense(units=16,\n",
    "                     activation='relu',\n",
    "                     kernel_initializer='uniform',\n",
    "                     input_dim=16))\n",
    "\n",
    "classifier.add(Dense(units=16,\n",
    "                     activation='relu',\n",
    "                     kernel_initializer='uniform'))\n",
    "\n",
    "classifier.add(Dense(units=1,\n",
    "                     activation='sigmoid',\n",
    "                     kernel_initializer='uniform'))\n",
    "classifier.compile(\n",
    "    optimizer='adam',\n",
    "    loss='binary_crossentropy',\n",
    "    metrics=['accuracy'])\n",
    "start = time()\n",
    "classifier.fit(x=X_train, y=y_train, batch_size=10,epochs=5)"
   ]
  }
 ],
 "metadata": {
  "interpreter": {
   "hash": "40c78e034c8090686234d715b17d5fd19830257f97e67841946e24db7d6dacb4"
  },
  "kernelspec": {
   "display_name": "Python 3 (ipykernel)",
   "language": "python",
   "name": "python3"
  },
  "language_info": {
   "codemirror_mode": {
    "name": "ipython",
    "version": 3
   },
   "file_extension": ".py",
   "mimetype": "text/x-python",
   "name": "python",
   "nbconvert_exporter": "python",
   "pygments_lexer": "ipython3",
   "version": "3.9.12"
  }
 },
 "nbformat": 4,
 "nbformat_minor": 2
}
